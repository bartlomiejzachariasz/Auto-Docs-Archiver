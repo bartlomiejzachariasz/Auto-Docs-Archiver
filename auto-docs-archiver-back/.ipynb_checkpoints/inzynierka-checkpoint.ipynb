{
 "cells": [
  {
   "cell_type": "code",
   "execution_count": 21,
   "metadata": {},
   "outputs": [
    {
     "name": "stdout",
     "output_type": "stream",
     "text": [
      "Requirement already satisfied: wordcloud in /usr/local/lib/python3.7/site-packages (1.6.0)\n",
      "Requirement already satisfied: numpy>=1.6.1 in /usr/local/lib/python3.7/site-packages (from wordcloud) (1.17.4)\n",
      "Requirement already satisfied: pillow in /usr/local/lib/python3.7/site-packages (from wordcloud) (6.2.1)\n",
      "Requirement already satisfied: matplotlib in /usr/local/lib/python3.7/site-packages (from wordcloud) (3.1.2)\n",
      "Requirement already satisfied: pyparsing!=2.0.4,!=2.1.2,!=2.1.6,>=2.0.1 in /usr/local/lib/python3.7/site-packages (from matplotlib->wordcloud) (2.4.5)\n",
      "Requirement already satisfied: python-dateutil>=2.1 in /usr/local/lib/python3.7/site-packages (from matplotlib->wordcloud) (2.8.0)\n",
      "Requirement already satisfied: cycler>=0.10 in /usr/local/lib/python3.7/site-packages (from matplotlib->wordcloud) (0.10.0)\n",
      "Requirement already satisfied: kiwisolver>=1.0.1 in /usr/local/lib/python3.7/site-packages (from matplotlib->wordcloud) (1.1.0)\n",
      "Requirement already satisfied: six>=1.5 in /usr/local/lib/python3.7/site-packages (from python-dateutil>=2.1->matplotlib->wordcloud) (1.12.0)\n",
      "Requirement already satisfied: setuptools in /usr/local/lib/python3.7/site-packages (from kiwisolver>=1.0.1->matplotlib->wordcloud) (41.6.0)\n",
      "Requirement already satisfied: nltk in /usr/local/lib/python3.7/site-packages (3.4.5)\n",
      "Requirement already satisfied: six in /usr/local/lib/python3.7/site-packages (from nltk) (1.12.0)\n",
      "Requirement already satisfied: sklearn in /usr/local/lib/python3.7/site-packages (0.0)\n",
      "Requirement already satisfied: scikit-learn in /usr/local/lib/python3.7/site-packages (from sklearn) (0.21.3)\n",
      "Requirement already satisfied: numpy>=1.11.0 in /usr/local/lib/python3.7/site-packages (from scikit-learn->sklearn) (1.17.4)\n",
      "Requirement already satisfied: joblib>=0.11 in /usr/local/lib/python3.7/site-packages (from scikit-learn->sklearn) (0.14.0)\n",
      "Requirement already satisfied: scipy>=0.17.0 in /usr/local/lib/python3.7/site-packages (from scikit-learn->sklearn) (1.3.3)\n",
      "Requirement already satisfied: pandas in /usr/local/lib/python3.7/site-packages (0.25.3)\n",
      "Requirement already satisfied: python-dateutil>=2.6.1 in /usr/local/lib/python3.7/site-packages (from pandas) (2.8.0)\n",
      "Requirement already satisfied: pytz>=2017.2 in /usr/local/lib/python3.7/site-packages (from pandas) (2019.1)\n",
      "Requirement already satisfied: numpy>=1.13.3 in /usr/local/lib/python3.7/site-packages (from pandas) (1.17.4)\n",
      "Requirement already satisfied: six>=1.5 in /usr/local/lib/python3.7/site-packages (from python-dateutil>=2.6.1->pandas) (1.12.0)\n"
     ]
    }
   ],
   "source": [
    "!pip3 install wordcloud\n",
    "!pip3 install nltk\n",
    "!pip3 install sklearn\n",
    "!pip3 install pandas"
   ]
  },
  {
   "cell_type": "code",
   "execution_count": 22,
   "metadata": {
    "pycharm": {
     "is_executing": false
    }
   },
   "outputs": [],
   "source": [
    "import pandas as pd\n",
    "import nltk\n",
    "from nltk.corpus import stopwords\n",
    "from nltk.stem.porter import PorterStemmer\n",
    "from nltk import WordNetLemmatizer\n",
    "from src.basic_processor import BasicProcessor\n",
    "from wordcloud import WordCloud, STOPWORDS, ImageColorGenerator\n",
    "import matplotlib.pyplot as plt"
   ]
  },
  {
   "cell_type": "code",
   "execution_count": 23,
   "metadata": {
    "pycharm": {
     "is_executing": false
    }
   },
   "outputs": [
    {
     "name": "stderr",
     "output_type": "stream",
     "text": [
      "[nltk_data] Downloading package stopwords to\n",
      "[nltk_data]     /Users/bartek/nltk_data...\n",
      "[nltk_data]   Package stopwords is already up-to-date!\n",
      "[nltk_data] Downloading package wordnet to /Users/bartek/nltk_data...\n",
      "[nltk_data]   Package wordnet is already up-to-date!\n"
     ]
    },
    {
     "data": {
      "text/plain": [
       "True"
      ]
     },
     "execution_count": 23,
     "metadata": {},
     "output_type": "execute_result"
    }
   ],
   "source": [
    "nltk.download('stopwords')\n",
    "nltk.download('wordnet')"
   ]
  },
  {
   "cell_type": "code",
   "execution_count": 24,
   "metadata": {
    "pycharm": {
     "is_executing": false
    }
   },
   "outputs": [],
   "source": [
    "def clean_text(text):\n",
    "    basic_processor = BasicProcessor()\n",
    "    return basic_processor.process_data(text)\n",
    "\n",
    "def read_file(filename):\n",
    "    text = []\n",
    "    with open(f'src/read_images/{filename}', 'r') as f:\n",
    "        text = f.read()\n",
    "    return text\n",
    "\n",
    "stop_words = set(stopwords.words(\"english\"))\n",
    "lem = WordNetLemmatizer()"
   ]
  },
  {
   "cell_type": "code",
   "execution_count": 61,
   "metadata": {},
   "outputs": [
    {
     "name": "stderr",
     "output_type": "stream",
     "text": [
      "DEBUG:root:process_data invoked\n",
      "DEBUG:root:extract_data invoked\n",
      "INFO:root:extract_data - invoked\n",
      "DEBUG:root:parse_date invoked\n",
      "DEBUG:root:extract_words invoked\n",
      "DEBUG:root:remove_whitespace invoked\n"
     ]
    }
   ],
   "source": [
    "words = clean_text(read_file('file'))"
   ]
  },
  {
   "cell_type": "code",
   "execution_count": 20,
   "metadata": {
    "pycharm": {
     "is_executing": false,
     "name": "#%%\n"
    }
   },
   "outputs": [],
   "source": [
    "def lemmate_words(words, stop_words):\n",
    "   return [lem.lemmatize(word) for word in words\n",
    "                    if not word in stop_words] \n",
    "\n"
   ]
  },
  {
   "cell_type": "code",
   "execution_count": 63,
   "metadata": {},
   "outputs": [
    {
     "data": {
      "text/plain": [
       "['',\n",
       " 'nota',\n",
       " 'hy',\n",
       " 'ticketthis',\n",
       " 'eticket',\n",
       " 'nontransferablems',\n",
       " 'prosont',\n",
       " 'entire',\n",
       " 'page',\n",
       " 'event',\n",
       " 'asnnn',\n",
       " 'enecrnneenennmneanesnccnanecmncneneitasteatantinssatinasinmaiinnnse',\n",
       " 'wanelson',\n",
       " 'aguilar',\n",
       " 'cbdddacdebe',\n",
       " 'datowodnosday',\n",
       " 'january',\n",
       " 'jimmy',\n",
       " 'kimmel',\n",
       " 'live',\n",
       " 'checkin',\n",
       " 'time',\n",
       " 'pmcheckin',\n",
       " 'location',\n",
       " 'mapjimmy',\n",
       " 'kimmel',\n",
       " 'live',\n",
       " 'studio',\n",
       " 'hollywood',\n",
       " 'blvdlos',\n",
       " 'angoles',\n",
       " 'ca',\n",
       " 'tiota',\n",
       " 'responsible',\n",
       " 'inconvenience',\n",
       " 'caused',\n",
       " 'unauthorized',\n",
       " 'duplicationgeneral',\n",
       " 'general',\n",
       " 'ticket',\n",
       " 'holder',\n",
       " 'admitted',\n",
       " 'immediatoly',\n",
       " 'priority',\n",
       " 'groupiin',\n",
       " 'neu',\n",
       " 'nmunnmmemaesaatitetimportant',\n",
       " 'instructionssuggested',\n",
       " 'arrival',\n",
       " 'timeearly',\n",
       " 'arrival',\n",
       " '',\n",
       " 'minute',\n",
       " 'prior',\n",
       " 'arrival',\n",
       " 'time',\n",
       " 'recommended',\n",
       " 'arrive',\n",
       " 'door',\n",
       " 'scheduled',\n",
       " 'openplease',\n",
       " 'aware',\n",
       " 'wait',\n",
       " 'outside',\n",
       " 'checkin',\n",
       " 'begin',\n",
       " 'please',\n",
       " 'allow',\n",
       " 'extra',\n",
       " 'time',\n",
       " 'traffic',\n",
       " 'parking',\n",
       " 'bocuiy',\n",
       " 'mreageall',\n",
       " 'audience',\n",
       " 'member',\n",
       " 'must',\n",
       " 'least',\n",
       " '',\n",
       " 'year',\n",
       " 'old',\n",
       " 'valid',\n",
       " 'state',\n",
       " 'government',\n",
       " 'issued',\n",
       " 'id',\n",
       " 'passport',\n",
       " 'visible',\n",
       " 'dateofbirth',\n",
       " 'birth',\n",
       " 'certificate',\n",
       " 'security',\n",
       " 'purpose',\n",
       " 'exceptionsdressour',\n",
       " 'dress',\n",
       " 'code',\n",
       " 'nice',\n",
       " 'casual',\n",
       " 'going',\n",
       " 'nice',\n",
       " 'dinner',\n",
       " 'reserve',\n",
       " 'right',\n",
       " 'deny',\n",
       " 'entry',\n",
       " 'anyone',\n",
       " 'drossedinappropriately',\n",
       " 'donts',\n",
       " 'solid',\n",
       " 'white',\n",
       " 'clothing',\n",
       " 'short',\n",
       " 'hat',\n",
       " 'large',\n",
       " 'logoscheckinyour',\n",
       " 'entire',\n",
       " 'party',\n",
       " 'must',\n",
       " 'present',\n",
       " 'checkin',\n",
       " 'time',\n",
       " 'able',\n",
       " 'save',\n",
       " 'space',\n",
       " 'guest',\n",
       " 'tlota',\n",
       " 'mombername',\n",
       " 'booked',\n",
       " 'ticket',\n",
       " 'must',\n",
       " 'match',\n",
       " 'tiota',\n",
       " 'member',\n",
       " 'name',\n",
       " 'audience',\n",
       " 'list',\n",
       " 'space',\n",
       " 'limited',\n",
       " 'arrive',\n",
       " 'thedesignated',\n",
       " 'checkin',\n",
       " 'time',\n",
       " 'capacity',\n",
       " 'may',\n",
       " 'already',\n",
       " 'reachedparkingour',\n",
       " 'audience',\n",
       " 'member',\n",
       " 'may',\n",
       " 'use',\n",
       " 'hollywood',\n",
       " '',\n",
       " 'highland',\n",
       " 'complex',\n",
       " 'paid',\n",
       " 'parking',\n",
       " 'structure',\n",
       " 'validate',\n",
       " 'parking',\n",
       " 'ticket',\n",
       " 'theend',\n",
       " 'show',\n",
       " 'parking',\n",
       " '',\n",
       " '',\n",
       " 'hour',\n",
       " 'validation',\n",
       " 'validate',\n",
       " 'parking',\n",
       " 'structure',\n",
       " 'lot',\n",
       " 'thepenne',\n",
       " 'ea',\n",
       " 'aera',\n",
       " 'nnn',\n",
       " 'wiltnadditional',\n",
       " 'instructionspersonal',\n",
       " 'itemscell',\n",
       " 'phone',\n",
       " 'allowed',\n",
       " 'must',\n",
       " 'powered',\n",
       " 'upon',\n",
       " 'entry',\n",
       " 'studio',\n",
       " 'camera',\n",
       " 'backpack',\n",
       " 'large',\n",
       " 'shopping',\n",
       " 'bagsrecording',\n",
       " 'device',\n",
       " 'digital',\n",
       " 'equipment',\n",
       " 'sharp',\n",
       " 'object',\n",
       " 'kind',\n",
       " 'mace',\n",
       " 'spray',\n",
       " 'bottle',\n",
       " 'promotional',\n",
       " 'item',\n",
       " 'book',\n",
       " 'food',\n",
       " 'allowed',\n",
       " 'inthe',\n",
       " 'studio',\n",
       " 'please',\n",
       " 'leave',\n",
       " 'item',\n",
       " 'car',\n",
       " 'bring',\n",
       " 'similar',\n",
       " 'item',\n",
       " 'check',\n",
       " 'al',\n",
       " 'door',\n",
       " 'pick',\n",
       " 'upfrom',\n",
       " 'security',\n",
       " 'exit',\n",
       " 'studiosecurity',\n",
       " 'checkplease',\n",
       " 'aware',\n",
       " 'audience',\n",
       " 'member',\n",
       " 'go',\n",
       " 'metal',\n",
       " 'detector',\n",
       " 'upon',\n",
       " 'entering',\n",
       " 'studio',\n",
       " 'please',\n",
       " 'downsize',\n",
       " 'purse',\n",
       " 'orbags',\n",
       " 'bringing',\n",
       " 'youticket',\n",
       " 'holder',\n",
       " 'must',\n",
       " 'comply',\n",
       " 'security',\n",
       " 'procedure',\n",
       " 'ifwe',\n",
       " 'deem',\n",
       " 'influence',\n",
       " 'threat',\n",
       " 'unfit',\n",
       " 'permittedinside',\n",
       " 'studio',\n",
       " 'reserve',\n",
       " 'right',\n",
       " 'deny',\n",
       " 'admission',\n",
       " 'time',\n",
       " 'reasonfileusersneilgonzalezdesktop',\n",
       " 'iota',\n",
       " '',\n",
       " 'h',\n",
       " 'ticket',\n",
       " 'hum']"
      ]
     },
     "execution_count": 63,
     "metadata": {},
     "output_type": "execute_result"
    }
   ],
   "source": [
    "lemmated_words = lemmate_words(words[\"data\"], stop_words)\n",
    "lemmated_words"
   ]
  },
  {
   "cell_type": "code",
   "execution_count": 65,
   "metadata": {},
   "outputs": [
    {
     "data": {
      "text/plain": [
       "' nota hy ticketthis eticket nontransferablems prosont entire page event asnnn enecrnneenennmneanesnccnanecmncneneitasteatantinssatinasinmaiinnnse wanelson aguilar cbdddacdebe datowodnosday january jimmy kimmel live checkin time pmcheckin location mapjimmy kimmel live studio hollywood blvdlos angoles ca tiota responsible inconvenience caused unauthorized duplicationgeneral general ticket holder admitted immediatoly priority groupiin neu nmunnmmemaesaatitetimportant instructionssuggested arrival timeearly arrival  minute prior arrival time recommended arrive door scheduled openplease aware wait outside checkin begin please allow extra time traffic parking bocuiy mreageall audience member must least  year old valid state government issued id passport visible dateofbirth birth certificate security purpose exceptionsdressour dress code nice casual going nice dinner reserve right deny entry anyone drossedinappropriately donts solid white clothing short hat large logoscheckinyour entire party must present checkin time able save space guest tlota mombername booked ticket must match tiota member name audience list space limited arrive thedesignated checkin time capacity may already reachedparkingour audience member may use hollywood  highland complex paid parking structure validate parking ticket theend show parking   hour validation validate parking structure lot thepenne ea aera nnn wiltnadditional instructionspersonal itemscell phone allowed must powered upon entry studio camera backpack large shopping bagsrecording device digital equipment sharp object kind mace spray bottle promotional item book food allowed inthe studio please leave item car bring similar item check al door pick upfrom security exit studiosecurity checkplease aware audience member go metal detector upon entering studio please downsize purse orbags bringing youticket holder must comply security procedure ifwe deem influence threat unfit permittedinside studio reserve right deny admission time reasonfileusersneilgonzalezdesktop iota  h ticket hum'"
      ]
     },
     "execution_count": 65,
     "metadata": {},
     "output_type": "execute_result"
    }
   ],
   "source": [
    "text = ' '.join(lemmated_words)\n",
    "text"
   ]
  },
  {
   "cell_type": "code",
   "execution_count": 13,
   "metadata": {
    "pycharm": {
     "is_executing": false,
     "name": "#%%\n"
    }
   },
   "outputs": [
    {
     "data": {
      "image/png": "[encoded data removed]",
      "text/plain": [
       "<Figure size 432x288 with 1 Axes>"
      ]
     },
     "metadata": {
      "needs_background": "light"
     },
     "output_type": "display_data"
    }
   ],
   "source": [
    "wordcloud = WordCloud(background_color='white',\n",
    "                      stopwords=stop_words,\n",
    "                      max_words=100,\n",
    "                      max_font_size=32).generate(str(lemmated_words))\n",
    "\n",
    "fig = plt.figure(1)\n",
    "plt.imshow(wordcloud)\n",
    "plt.axis('off')\n",
    "plt.show()"
   ]
  },
  {
   "cell_type": "code",
   "execution_count": 15,
   "metadata": {
    "pycharm": {
     "is_executing": false,
     "name": "#%%\n"
    }
   },
   "outputs": [
    {
     "data": {
      "text/plain": [
       "<654x305 sparse matrix of type '<class 'numpy.int64'>'\n",
       "\twith 560 stored elements in Compressed Sparse Row format>"
      ]
     },
     "execution_count": 15,
     "metadata": {},
     "output_type": "execute_result"
    }
   ],
   "source": [
    "from sklearn.feature_extraction.text import CountVectorizer\n",
    "\n",
    "cv=CountVectorizer(max_df=0.8,\n",
    "                   stop_words=stop_words,\n",
    "                   max_features=10000,\n",
    "                   ngram_range=(1,3))\n",
    "cv.fit_transform(lemmated_words)"
   ]
  },
  {
   "cell_type": "code",
   "execution_count": 47,
   "metadata": {},
   "outputs": [],
   "source": [
    "def prepare_n_gram_data(words, n=1, max_features=2000):\n",
    "    cv = CountVectorizer(ngram_range=(n, n), max_features=max_features).fit(words)\n",
    "    bag_of_words = cv.transform(words)\n",
    "    words_sum = bag_of_words.sum(axis=0)\n",
    "    words_freq = [(word, words_sum[0, i]) for word, i in cv.vocabulary_.items()]\n",
    "    words_freq = sorted(words_freq, key = lambda x: x[1], reverse=True)\n",
    "    return words_freq"
   ]
  },
  {
   "cell_type": "code",
   "execution_count": 69,
   "metadata": {},
   "outputs": [
    {
     "data": {
      "text/plain": [
       "list"
      ]
     },
     "execution_count": 69,
     "metadata": {},
     "output_type": "execute_result"
    }
   ],
   "source": [
    "type(lemmated_words)"
   ]
  },
  {
   "cell_type": "code",
   "execution_count": 68,
   "metadata": {},
   "outputs": [
    {
     "ename": "ValueError",
     "evalue": "Iterable over raw text documents expected, string object received.",
     "output_type": "error",
     "traceback": [
      "\u001b[0;31m---------------------------------------------------------------------------\u001b[0m",
      "\u001b[0;31mValueError\u001b[0m                                Traceback (most recent call last)",
      "\u001b[0;32m<ipython-input-68-14677a6b9a49>\u001b[0m in \u001b[0;36m<module>\u001b[0;34m\u001b[0m\n\u001b[0;32m----> 1\u001b[0;31m \u001b[0munigram_words\u001b[0m \u001b[0;34m=\u001b[0m \u001b[0mprepare_n_gram_data\u001b[0m\u001b[0;34m(\u001b[0m\u001b[0mtext\u001b[0m\u001b[0;34m)\u001b[0m\u001b[0;34m\u001b[0m\u001b[0;34m\u001b[0m\u001b[0m\n\u001b[0m\u001b[1;32m      2\u001b[0m \u001b[0munigram_df\u001b[0m \u001b[0;34m=\u001b[0m \u001b[0mpd\u001b[0m\u001b[0;34m.\u001b[0m\u001b[0mDataFrame\u001b[0m\u001b[0;34m(\u001b[0m\u001b[0munigram_words\u001b[0m\u001b[0;34m)\u001b[0m\u001b[0;34m\u001b[0m\u001b[0;34m\u001b[0m\u001b[0m\n\u001b[1;32m      3\u001b[0m \u001b[0munigram_df\u001b[0m\u001b[0;34m\u001b[0m\u001b[0;34m\u001b[0m\u001b[0m\n",
      "\u001b[0;32m<ipython-input-47-b3dd00c5ecf8>\u001b[0m in \u001b[0;36mprepare_n_gram_data\u001b[0;34m(words, n, max_features)\u001b[0m\n\u001b[1;32m      1\u001b[0m \u001b[0;32mdef\u001b[0m \u001b[0mprepare_n_gram_data\u001b[0m\u001b[0;34m(\u001b[0m\u001b[0mwords\u001b[0m\u001b[0;34m,\u001b[0m \u001b[0mn\u001b[0m\u001b[0;34m=\u001b[0m\u001b[0;36m1\u001b[0m\u001b[0;34m,\u001b[0m \u001b[0mmax_features\u001b[0m\u001b[0;34m=\u001b[0m\u001b[0;36m2000\u001b[0m\u001b[0;34m)\u001b[0m\u001b[0;34m:\u001b[0m\u001b[0;34m\u001b[0m\u001b[0;34m\u001b[0m\u001b[0m\n\u001b[0;32m----> 2\u001b[0;31m     \u001b[0mcv\u001b[0m \u001b[0;34m=\u001b[0m \u001b[0mCountVectorizer\u001b[0m\u001b[0;34m(\u001b[0m\u001b[0mngram_range\u001b[0m\u001b[0;34m=\u001b[0m\u001b[0;34m(\u001b[0m\u001b[0mn\u001b[0m\u001b[0;34m,\u001b[0m \u001b[0mn\u001b[0m\u001b[0;34m)\u001b[0m\u001b[0;34m,\u001b[0m \u001b[0mmax_features\u001b[0m\u001b[0;34m=\u001b[0m\u001b[0mmax_features\u001b[0m\u001b[0;34m)\u001b[0m\u001b[0;34m.\u001b[0m\u001b[0mfit\u001b[0m\u001b[0;34m(\u001b[0m\u001b[0mwords\u001b[0m\u001b[0;34m)\u001b[0m\u001b[0;34m\u001b[0m\u001b[0;34m\u001b[0m\u001b[0m\n\u001b[0m\u001b[1;32m      3\u001b[0m     \u001b[0mbag_of_words\u001b[0m \u001b[0;34m=\u001b[0m \u001b[0mcv\u001b[0m\u001b[0;34m.\u001b[0m\u001b[0mtransform\u001b[0m\u001b[0;34m(\u001b[0m\u001b[0mwords\u001b[0m\u001b[0;34m)\u001b[0m\u001b[0;34m\u001b[0m\u001b[0;34m\u001b[0m\u001b[0m\n\u001b[1;32m      4\u001b[0m     \u001b[0mwords_sum\u001b[0m \u001b[0;34m=\u001b[0m \u001b[0mbag_of_words\u001b[0m\u001b[0;34m.\u001b[0m\u001b[0msum\u001b[0m\u001b[0;34m(\u001b[0m\u001b[0maxis\u001b[0m\u001b[0;34m=\u001b[0m\u001b[0;36m0\u001b[0m\u001b[0;34m)\u001b[0m\u001b[0;34m\u001b[0m\u001b[0;34m\u001b[0m\u001b[0m\n\u001b[1;32m      5\u001b[0m     \u001b[0mwords_freq\u001b[0m \u001b[0;34m=\u001b[0m \u001b[0;34m[\u001b[0m\u001b[0;34m(\u001b[0m\u001b[0mword\u001b[0m\u001b[0;34m,\u001b[0m \u001b[0mwords_sum\u001b[0m\u001b[0;34m[\u001b[0m\u001b[0;36m0\u001b[0m\u001b[0;34m,\u001b[0m \u001b[0mi\u001b[0m\u001b[0;34m]\u001b[0m\u001b[0;34m)\u001b[0m \u001b[0;32mfor\u001b[0m \u001b[0mword\u001b[0m\u001b[0;34m,\u001b[0m \u001b[0mi\u001b[0m \u001b[0;32min\u001b[0m \u001b[0mcv\u001b[0m\u001b[0;34m.\u001b[0m\u001b[0mvocabulary_\u001b[0m\u001b[0;34m.\u001b[0m\u001b[0mitems\u001b[0m\u001b[0;34m(\u001b[0m\u001b[0;34m)\u001b[0m\u001b[0;34m]\u001b[0m\u001b[0;34m\u001b[0m\u001b[0;34m\u001b[0m\u001b[0m\n",
      "\u001b[0;32m/usr/local/lib/python3.7/site-packages/sklearn/feature_extraction/text.py\u001b[0m in \u001b[0;36mfit\u001b[0;34m(self, raw_documents, y)\u001b[0m\n\u001b[1;32m   1022\u001b[0m         \u001b[0mself\u001b[0m\u001b[0;34m\u001b[0m\u001b[0;34m\u001b[0m\u001b[0m\n\u001b[1;32m   1023\u001b[0m         \"\"\"\n\u001b[0;32m-> 1024\u001b[0;31m         \u001b[0mself\u001b[0m\u001b[0;34m.\u001b[0m\u001b[0mfit_transform\u001b[0m\u001b[0;34m(\u001b[0m\u001b[0mraw_documents\u001b[0m\u001b[0;34m)\u001b[0m\u001b[0;34m\u001b[0m\u001b[0;34m\u001b[0m\u001b[0m\n\u001b[0m\u001b[1;32m   1025\u001b[0m         \u001b[0;32mreturn\u001b[0m \u001b[0mself\u001b[0m\u001b[0;34m\u001b[0m\u001b[0;34m\u001b[0m\u001b[0m\n\u001b[1;32m   1026\u001b[0m \u001b[0;34m\u001b[0m\u001b[0m\n",
      "\u001b[0;32m/usr/local/lib/python3.7/site-packages/sklearn/feature_extraction/text.py\u001b[0m in \u001b[0;36mfit_transform\u001b[0;34m(self, raw_documents, y)\u001b[0m\n\u001b[1;32m   1046\u001b[0m         \u001b[0;32mif\u001b[0m \u001b[0misinstance\u001b[0m\u001b[0;34m(\u001b[0m\u001b[0mraw_documents\u001b[0m\u001b[0;34m,\u001b[0m \u001b[0mstr\u001b[0m\u001b[0;34m)\u001b[0m\u001b[0;34m:\u001b[0m\u001b[0;34m\u001b[0m\u001b[0;34m\u001b[0m\u001b[0m\n\u001b[1;32m   1047\u001b[0m             raise ValueError(\n\u001b[0;32m-> 1048\u001b[0;31m                 \u001b[0;34m\"Iterable over raw text documents expected, \"\u001b[0m\u001b[0;34m\u001b[0m\u001b[0;34m\u001b[0m\u001b[0m\n\u001b[0m\u001b[1;32m   1049\u001b[0m                 \"string object received.\")\n\u001b[1;32m   1050\u001b[0m \u001b[0;34m\u001b[0m\u001b[0m\n",
      "\u001b[0;31mValueError\u001b[0m: Iterable over raw text documents expected, string object received."
     ]
    }
   ],
   "source": [
    "unigram_words = prepare_n_gram_data(text)\n",
    "unigram_df = pd.DataFrame(unigram_words)\n",
    "unigram_df"
   ]
  },
  {
   "cell_type": "code",
   "execution_count": 67,
   "metadata": {},
   "outputs": [
    {
     "ename": "ValueError",
     "evalue": "empty vocabulary; perhaps the documents only contain stop words",
     "output_type": "error",
     "traceback": [
      "\u001b[0;31m---------------------------------------------------------------------------\u001b[0m",
      "\u001b[0;31mValueError\u001b[0m                                Traceback (most recent call last)",
      "\u001b[0;32m<ipython-input-67-0191aea9a131>\u001b[0m in \u001b[0;36m<module>\u001b[0;34m\u001b[0m\n\u001b[0;32m----> 1\u001b[0;31m \u001b[0mbigram_words\u001b[0m \u001b[0;34m=\u001b[0m \u001b[0mprepare_n_gram_data\u001b[0m\u001b[0;34m(\u001b[0m\u001b[0mlemmated_words\u001b[0m\u001b[0;34m,\u001b[0m \u001b[0mn\u001b[0m\u001b[0;34m=\u001b[0m\u001b[0;36m2\u001b[0m\u001b[0;34m)\u001b[0m\u001b[0;34m\u001b[0m\u001b[0;34m\u001b[0m\u001b[0m\n\u001b[0m\u001b[1;32m      2\u001b[0m \u001b[0mbigram_df\u001b[0m \u001b[0;34m=\u001b[0m \u001b[0mpd\u001b[0m\u001b[0;34m.\u001b[0m\u001b[0mDataFrame\u001b[0m\u001b[0;34m(\u001b[0m\u001b[0mbigram_words\u001b[0m\u001b[0;34m)\u001b[0m\u001b[0;34m\u001b[0m\u001b[0;34m\u001b[0m\u001b[0m\n\u001b[1;32m      3\u001b[0m \u001b[0mbigram_df\u001b[0m\u001b[0;34m[\u001b[0m\u001b[0;34m:\u001b[0m\u001b[0;36m20\u001b[0m\u001b[0;34m]\u001b[0m\u001b[0;34m\u001b[0m\u001b[0;34m\u001b[0m\u001b[0m\n",
      "\u001b[0;32m<ipython-input-47-b3dd00c5ecf8>\u001b[0m in \u001b[0;36mprepare_n_gram_data\u001b[0;34m(words, n, max_features)\u001b[0m\n\u001b[1;32m      1\u001b[0m \u001b[0;32mdef\u001b[0m \u001b[0mprepare_n_gram_data\u001b[0m\u001b[0;34m(\u001b[0m\u001b[0mwords\u001b[0m\u001b[0;34m,\u001b[0m \u001b[0mn\u001b[0m\u001b[0;34m=\u001b[0m\u001b[0;36m1\u001b[0m\u001b[0;34m,\u001b[0m \u001b[0mmax_features\u001b[0m\u001b[0;34m=\u001b[0m\u001b[0;36m2000\u001b[0m\u001b[0;34m)\u001b[0m\u001b[0;34m:\u001b[0m\u001b[0;34m\u001b[0m\u001b[0;34m\u001b[0m\u001b[0m\n\u001b[0;32m----> 2\u001b[0;31m     \u001b[0mcv\u001b[0m \u001b[0;34m=\u001b[0m \u001b[0mCountVectorizer\u001b[0m\u001b[0;34m(\u001b[0m\u001b[0mngram_range\u001b[0m\u001b[0;34m=\u001b[0m\u001b[0;34m(\u001b[0m\u001b[0mn\u001b[0m\u001b[0;34m,\u001b[0m \u001b[0mn\u001b[0m\u001b[0;34m)\u001b[0m\u001b[0;34m,\u001b[0m \u001b[0mmax_features\u001b[0m\u001b[0;34m=\u001b[0m\u001b[0mmax_features\u001b[0m\u001b[0;34m)\u001b[0m\u001b[0;34m.\u001b[0m\u001b[0mfit\u001b[0m\u001b[0;34m(\u001b[0m\u001b[0mwords\u001b[0m\u001b[0;34m)\u001b[0m\u001b[0;34m\u001b[0m\u001b[0;34m\u001b[0m\u001b[0m\n\u001b[0m\u001b[1;32m      3\u001b[0m     \u001b[0mbag_of_words\u001b[0m \u001b[0;34m=\u001b[0m \u001b[0mcv\u001b[0m\u001b[0;34m.\u001b[0m\u001b[0mtransform\u001b[0m\u001b[0;34m(\u001b[0m\u001b[0mwords\u001b[0m\u001b[0;34m)\u001b[0m\u001b[0;34m\u001b[0m\u001b[0;34m\u001b[0m\u001b[0m\n\u001b[1;32m      4\u001b[0m     \u001b[0mwords_sum\u001b[0m \u001b[0;34m=\u001b[0m \u001b[0mbag_of_words\u001b[0m\u001b[0;34m.\u001b[0m\u001b[0msum\u001b[0m\u001b[0;34m(\u001b[0m\u001b[0maxis\u001b[0m\u001b[0;34m=\u001b[0m\u001b[0;36m0\u001b[0m\u001b[0;34m)\u001b[0m\u001b[0;34m\u001b[0m\u001b[0;34m\u001b[0m\u001b[0m\n\u001b[1;32m      5\u001b[0m     \u001b[0mwords_freq\u001b[0m \u001b[0;34m=\u001b[0m \u001b[0;34m[\u001b[0m\u001b[0;34m(\u001b[0m\u001b[0mword\u001b[0m\u001b[0;34m,\u001b[0m \u001b[0mwords_sum\u001b[0m\u001b[0;34m[\u001b[0m\u001b[0;36m0\u001b[0m\u001b[0;34m,\u001b[0m \u001b[0mi\u001b[0m\u001b[0;34m]\u001b[0m\u001b[0;34m)\u001b[0m \u001b[0;32mfor\u001b[0m \u001b[0mword\u001b[0m\u001b[0;34m,\u001b[0m \u001b[0mi\u001b[0m \u001b[0;32min\u001b[0m \u001b[0mcv\u001b[0m\u001b[0;34m.\u001b[0m\u001b[0mvocabulary_\u001b[0m\u001b[0;34m.\u001b[0m\u001b[0mitems\u001b[0m\u001b[0;34m(\u001b[0m\u001b[0;34m)\u001b[0m\u001b[0;34m]\u001b[0m\u001b[0;34m\u001b[0m\u001b[0;34m\u001b[0m\u001b[0m\n",
      "\u001b[0;32m/usr/local/lib/python3.7/site-packages/sklearn/feature_extraction/text.py\u001b[0m in \u001b[0;36mfit\u001b[0;34m(self, raw_documents, y)\u001b[0m\n\u001b[1;32m   1022\u001b[0m         \u001b[0mself\u001b[0m\u001b[0;34m\u001b[0m\u001b[0;34m\u001b[0m\u001b[0m\n\u001b[1;32m   1023\u001b[0m         \"\"\"\n\u001b[0;32m-> 1024\u001b[0;31m         \u001b[0mself\u001b[0m\u001b[0;34m.\u001b[0m\u001b[0mfit_transform\u001b[0m\u001b[0;34m(\u001b[0m\u001b[0mraw_documents\u001b[0m\u001b[0;34m)\u001b[0m\u001b[0;34m\u001b[0m\u001b[0;34m\u001b[0m\u001b[0m\n\u001b[0m\u001b[1;32m   1025\u001b[0m         \u001b[0;32mreturn\u001b[0m \u001b[0mself\u001b[0m\u001b[0;34m\u001b[0m\u001b[0;34m\u001b[0m\u001b[0m\n\u001b[1;32m   1026\u001b[0m \u001b[0;34m\u001b[0m\u001b[0m\n",
      "\u001b[0;32m/usr/local/lib/python3.7/site-packages/sklearn/feature_extraction/text.py\u001b[0m in \u001b[0;36mfit_transform\u001b[0;34m(self, raw_documents, y)\u001b[0m\n\u001b[1;32m   1056\u001b[0m \u001b[0;34m\u001b[0m\u001b[0m\n\u001b[1;32m   1057\u001b[0m         vocabulary, X = self._count_vocab(raw_documents,\n\u001b[0;32m-> 1058\u001b[0;31m                                           self.fixed_vocabulary_)\n\u001b[0m\u001b[1;32m   1059\u001b[0m \u001b[0;34m\u001b[0m\u001b[0m\n\u001b[1;32m   1060\u001b[0m         \u001b[0;32mif\u001b[0m \u001b[0mself\u001b[0m\u001b[0;34m.\u001b[0m\u001b[0mbinary\u001b[0m\u001b[0;34m:\u001b[0m\u001b[0;34m\u001b[0m\u001b[0;34m\u001b[0m\u001b[0m\n",
      "\u001b[0;32m/usr/local/lib/python3.7/site-packages/sklearn/feature_extraction/text.py\u001b[0m in \u001b[0;36m_count_vocab\u001b[0;34m(self, raw_documents, fixed_vocab)\u001b[0m\n\u001b[1;32m    987\u001b[0m             \u001b[0mvocabulary\u001b[0m \u001b[0;34m=\u001b[0m \u001b[0mdict\u001b[0m\u001b[0;34m(\u001b[0m\u001b[0mvocabulary\u001b[0m\u001b[0;34m)\u001b[0m\u001b[0;34m\u001b[0m\u001b[0;34m\u001b[0m\u001b[0m\n\u001b[1;32m    988\u001b[0m             \u001b[0;32mif\u001b[0m \u001b[0;32mnot\u001b[0m \u001b[0mvocabulary\u001b[0m\u001b[0;34m:\u001b[0m\u001b[0;34m\u001b[0m\u001b[0;34m\u001b[0m\u001b[0m\n\u001b[0;32m--> 989\u001b[0;31m                 raise ValueError(\"empty vocabulary; perhaps the documents only\"\n\u001b[0m\u001b[1;32m    990\u001b[0m                                  \" contain stop words\")\n\u001b[1;32m    991\u001b[0m \u001b[0;34m\u001b[0m\u001b[0m\n",
      "\u001b[0;31mValueError\u001b[0m: empty vocabulary; perhaps the documents only contain stop words"
     ]
    }
   ],
   "source": [
    "bigram_words = prepare_n_gram_data(lemmated_words, n=2)\n",
    "bigram_df = pd.DataFrame(bigram_words)\n",
    "bigram_df[:20]"
   ]
  },
  {
   "cell_type": "code",
   "execution_count": null,
   "metadata": {},
   "outputs": [],
   "source": []
  }
 ],
 "metadata": {
  "kernelspec": {
   "display_name": "Python 3",
   "language": "python",
   "name": "python3"
  },
  "language_info": {
   "codemirror_mode": {
    "name": "ipython",
    "version": 3
   },
   "file_extension": ".py",
   "mimetype": "text/x-python",
   "name": "python",
   "nbconvert_exporter": "python",
   "pygments_lexer": "ipython3",
   "version": "3.7.5"
  },
  "pycharm": {
   "stem_cell": {
    "cell_type": "raw",
    "metadata": {
     "collapsed": false
    },
    "source": []
   }
  }
 },
 "nbformat": 4,
 "nbformat_minor": 2
}
