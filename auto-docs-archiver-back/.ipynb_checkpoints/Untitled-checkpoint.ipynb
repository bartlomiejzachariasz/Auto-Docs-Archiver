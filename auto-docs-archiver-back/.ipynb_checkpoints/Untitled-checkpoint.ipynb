{
 "cells": [
  {
   "cell_type": "code",
   "execution_count": 1,
   "metadata": {},
   "outputs": [
    {
     "name": "stdout",
     "output_type": "stream",
     "text": [
      "Python 3.8.0\n",
      "Looking in links: /var/folders/3n/1s8s23vn3xngtmy1jnt0fl7m0000gn/T/tmpeh118qhu\n",
      "Requirement already satisfied: setuptools in /Users/bartek/.pyenv/versions/3.8.0/lib/python3.8/site-packages (41.2.0)\n",
      "Requirement already satisfied: pip in /Users/bartek/.pyenv/versions/3.8.0/lib/python3.8/site-packages (19.3.1)\n",
      "Requirement already up-to-date: pip in /Users/bartek/.pyenv/versions/3.8.0/lib/python3.8/site-packages (19.3.1)\n",
      "Requirement already satisfied: pandas in /Users/bartek/.pyenv/versions/3.8.0/lib/python3.8/site-packages (0.25.3)\n",
      "Requirement already satisfied: numpy>=1.13.3 in /Users/bartek/.pyenv/versions/3.8.0/lib/python3.8/site-packages (from pandas) (1.17.4)\n",
      "Requirement already satisfied: pytz>=2017.2 in /Users/bartek/.pyenv/versions/3.8.0/lib/python3.8/site-packages (from pandas) (2019.3)\n",
      "Requirement already satisfied: python-dateutil>=2.6.1 in /Users/bartek/.pyenv/versions/3.8.0/lib/python3.8/site-packages (from pandas) (2.8.1)\n",
      "Requirement already satisfied: six>=1.5 in /Users/bartek/.pyenv/versions/3.8.0/lib/python3.8/site-packages (from python-dateutil>=2.6.1->pandas) (1.12.0)\n",
      "Requirement already satisfied: docx2txt in /Users/bartek/.pyenv/versions/3.8.0/lib/python3.8/site-packages (0.8)\n",
      "Requirement already satisfied: textract in /Users/bartek/.pyenv/versions/3.8.0/lib/python3.8/site-packages (1.6.3)\n",
      "Requirement already satisfied: python-pptx==0.6.18 in /Users/bartek/.pyenv/versions/3.8.0/lib/python3.8/site-packages (from textract) (0.6.18)\n",
      "Requirement already satisfied: chardet==3.0.4 in /Users/bartek/.pyenv/versions/3.8.0/lib/python3.8/site-packages (from textract) (3.0.4)\n",
      "Requirement already satisfied: EbookLib==0.17.1 in /Users/bartek/.pyenv/versions/3.8.0/lib/python3.8/site-packages (from textract) (0.17.1)\n",
      "Requirement already satisfied: pdfminer.six==20181108 in /Users/bartek/.pyenv/versions/3.8.0/lib/python3.8/site-packages (from textract) (20181108)\n",
      "Requirement already satisfied: SpeechRecognition==3.8.1 in /Users/bartek/.pyenv/versions/3.8.0/lib/python3.8/site-packages (from textract) (3.8.1)\n",
      "Requirement already satisfied: six==1.12.0 in /Users/bartek/.pyenv/versions/3.8.0/lib/python3.8/site-packages (from textract) (1.12.0)\n",
      "Requirement already satisfied: docx2txt==0.8 in /Users/bartek/.pyenv/versions/3.8.0/lib/python3.8/site-packages (from textract) (0.8)\n",
      "Requirement already satisfied: extract-msg==0.23.1 in /Users/bartek/.pyenv/versions/3.8.0/lib/python3.8/site-packages (from textract) (0.23.1)\n",
      "Requirement already satisfied: xlrd==1.2.0 in /Users/bartek/.pyenv/versions/3.8.0/lib/python3.8/site-packages (from textract) (1.2.0)\n",
      "Requirement already satisfied: argcomplete==1.10.0 in /Users/bartek/.pyenv/versions/3.8.0/lib/python3.8/site-packages (from textract) (1.10.0)\n",
      "Requirement already satisfied: beautifulsoup4==4.8.0 in /Users/bartek/.pyenv/versions/3.8.0/lib/python3.8/site-packages (from textract) (4.8.0)\n",
      "Requirement already satisfied: lxml>=3.1.0 in /Users/bartek/.pyenv/versions/3.8.0/lib/python3.8/site-packages (from python-pptx==0.6.18->textract) (4.4.2)\n",
      "Requirement already satisfied: Pillow>=3.3.2 in /Users/bartek/.pyenv/versions/3.8.0/lib/python3.8/site-packages (from python-pptx==0.6.18->textract) (6.2.1)\n",
      "Requirement already satisfied: XlsxWriter>=0.5.7 in /Users/bartek/.pyenv/versions/3.8.0/lib/python3.8/site-packages (from python-pptx==0.6.18->textract) (1.2.6)\n",
      "Requirement already satisfied: sortedcontainers in /Users/bartek/.pyenv/versions/3.8.0/lib/python3.8/site-packages (from pdfminer.six==20181108->textract) (2.1.0)\n",
      "Requirement already satisfied: pycryptodome in /Users/bartek/.pyenv/versions/3.8.0/lib/python3.8/site-packages (from pdfminer.six==20181108->textract) (3.9.4)\n",
      "Requirement already satisfied: tzlocal==1.5.1 in /Users/bartek/.pyenv/versions/3.8.0/lib/python3.8/site-packages (from extract-msg==0.23.1->textract) (1.5.1)\n",
      "Requirement already satisfied: imapclient==2.1.0 in /Users/bartek/.pyenv/versions/3.8.0/lib/python3.8/site-packages (from extract-msg==0.23.1->textract) (2.1.0)\n",
      "Requirement already satisfied: olefile==0.46 in /Users/bartek/.pyenv/versions/3.8.0/lib/python3.8/site-packages (from extract-msg==0.23.1->textract) (0.46)\n",
      "Requirement already satisfied: soupsieve>=1.2 in /Users/bartek/.pyenv/versions/3.8.0/lib/python3.8/site-packages (from beautifulsoup4==4.8.0->textract) (1.9.5)\n",
      "Requirement already satisfied: pytz in /Users/bartek/.pyenv/versions/3.8.0/lib/python3.8/site-packages (from tzlocal==1.5.1->extract-msg==0.23.1->textract) (2019.3)\n",
      "Requirement already satisfied: pystempel in /Users/bartek/.pyenv/versions/3.8.0/lib/python3.8/site-packages (1.1.0)\n",
      "Requirement already satisfied: sortedcontainers in /Users/bartek/.pyenv/versions/3.8.0/lib/python3.8/site-packages (from pystempel) (2.1.0)\n",
      "Requirement already satisfied: tqdm in /Users/bartek/.pyenv/versions/3.8.0/lib/python3.8/site-packages (from pystempel) (4.40.1)\n",
      "Requirement already satisfied: nltk in /Users/bartek/.pyenv/versions/3.8.0/lib/python3.8/site-packages (3.4.5)\n",
      "Requirement already satisfied: six in /Users/bartek/.pyenv/versions/3.8.0/lib/python3.8/site-packages (from nltk) (1.12.0)\n",
      "Requirement already satisfied: flask_jwt_extended in /Users/bartek/.pyenv/versions/3.8.0/lib/python3.8/site-packages (3.24.1)\n",
      "Requirement already satisfied: Werkzeug>=0.14 in /Users/bartek/.pyenv/versions/3.8.0/lib/python3.8/site-packages (from flask_jwt_extended) (0.16.0)\n",
      "Requirement already satisfied: Flask>=1.0 in /Users/bartek/.pyenv/versions/3.8.0/lib/python3.8/site-packages (from flask_jwt_extended) (1.1.1)\n",
      "Requirement already satisfied: PyJWT>=1.6.4 in /Users/bartek/.pyenv/versions/3.8.0/lib/python3.8/site-packages (from flask_jwt_extended) (1.7.1)\n",
      "Requirement already satisfied: six in /Users/bartek/.pyenv/versions/3.8.0/lib/python3.8/site-packages (from flask_jwt_extended) (1.12.0)\n",
      "Requirement already satisfied: itsdangerous>=0.24 in /Users/bartek/.pyenv/versions/3.8.0/lib/python3.8/site-packages (from Flask>=1.0->flask_jwt_extended) (1.1.0)\n",
      "Requirement already satisfied: click>=5.1 in /Users/bartek/.pyenv/versions/3.8.0/lib/python3.8/site-packages (from Flask>=1.0->flask_jwt_extended) (7.0)\n",
      "Requirement already satisfied: Jinja2>=2.10.1 in /Users/bartek/.pyenv/versions/3.8.0/lib/python3.8/site-packages (from Flask>=1.0->flask_jwt_extended) (2.10.3)\n",
      "Requirement already satisfied: MarkupSafe>=0.23 in /Users/bartek/.pyenv/versions/3.8.0/lib/python3.8/site-packages (from Jinja2>=2.10.1->Flask>=1.0->flask_jwt_extended) (1.1.1)\n"
     ]
    }
   ],
   "source": [
    "!python3 --version\n",
    "!python -m ensurepip\n",
    "!pip install --upgrade pip\n",
    "!pip install pandas\n",
    "!pip install docx2txt\n",
    "!pip install textract\n",
    "!pip install pystempel\n",
    "!pip install nltk\n",
    "!pip install flask_jwt_extended"
   ]
  },
  {
   "cell_type": "code",
   "execution_count": 203,
   "metadata": {},
   "outputs": [
    {
     "name": "stdout",
     "output_type": "stream",
     "text": [
      "/Users/bartek/.pyenv/shims/python\r\n"
     ]
    }
   ],
   "source": [
    "!which python"
   ]
  },
  {
   "cell_type": "code",
   "execution_count": 2,
   "metadata": {},
   "outputs": [
    {
     "name": "stderr",
     "output_type": "stream",
     "text": [
      "DEBUG:matplotlib:$HOME=/Users/bartek\n",
      "DEBUG:matplotlib:CONFIGDIR=/Users/bartek/.matplotlib\n",
      "DEBUG:matplotlib:matplotlib data path: /usr/local/lib/python3.7/site-packages/matplotlib/mpl-data\n",
      "DEBUG:matplotlib:loaded rc file /usr/local/lib/python3.7/site-packages/matplotlib/mpl-data/matplotlibrc\n",
      "DEBUG:matplotlib:matplotlib version 3.1.2\n",
      "DEBUG:matplotlib:interactive is False\n",
      "DEBUG:matplotlib:platform is darwin\n",
      "DEBUG:matplotlib:loaded modules: ['sys', 'builtins', '_frozen_importlib', '_imp', '_thread', '_warnings', '_weakref', 'zipimport', '_frozen_importlib_external', '_io', 'marshal', 'posix', 'encodings', 'codecs', '_codecs', 'encodings.aliases', 'encodings.utf_8', '_signal', '__main__', 'encodings.latin_1', 'io', 'abc', '_abc', '_bootlocale', '_locale', 'site', 'os', 'stat', '_stat', 'posixpath', 'genericpath', 'os.path', '_collections_abc', '_sitebuiltins', 'types', 'importlib', 'importlib._bootstrap', 'importlib._bootstrap_external', 'warnings', 'importlib.util', 'importlib.abc', 'importlib.machinery', 'contextlib', 'collections', 'operator', '_operator', 'keyword', 'heapq', '_heapq', 'itertools', 'reprlib', '_collections', 'functools', '_functools', 'mpl_toolkits', 'sitecustomize', 're', 'enum', 'sre_compile', '_sre', 'sre_parse', 'sre_constants', 'copyreg', 'runpy', 'pkgutil', 'weakref', '_weakrefset', 'ipykernel', 'ipykernel._version', 'ipykernel.connect', '__future__', 'json', 'json.decoder', 'json.scanner', '_json', 'json.encoder', 'subprocess', 'time', 'signal', 'errno', '_posixsubprocess', 'select', 'selectors', 'collections.abc', 'math', 'threading', 'traceback', 'linecache', 'tokenize', 'token', 'IPython', 'IPython.core', 'IPython.core.getipython', 'IPython.core.release', 'IPython.core.application', 'atexit', 'copy', 'glob', 'fnmatch', 'logging', 'string', '_string', 'shutil', 'zlib', 'bz2', '_compression', '_bz2', 'lzma', '_lzma', 'pwd', 'grp', 'traitlets', 'traitlets.traitlets', 'inspect', 'dis', 'opcode', '_opcode', 'six', 'struct', '_struct', 'traitlets.utils', 'traitlets.utils.getargspec', 'traitlets.utils.importstring', 'ipython_genutils', 'ipython_genutils._version', 'ipython_genutils.py3compat', 'ipython_genutils.encoding', 'locale', 'platform', 'traitlets.utils.sentinel', 'traitlets.utils.bunch', 'traitlets._version', 'traitlets.config', 'traitlets.config.application', 'decorator', 'traitlets.config.configurable', 'traitlets.config.loader', 'argparse', 'gettext', 'ast', '_ast', 'ipython_genutils.path', 'random', 'hashlib', '_hashlib', '_blake2', '_sha3', 'bisect', '_bisect', '_random', 'ipython_genutils.text', 'textwrap', 'ipython_genutils.importstring', 'IPython.core.crashhandler', 'pprint', 'IPython.core.ultratb', 'pydoc', 'urllib', 'urllib.parse', 'IPython.core.debugger', 'bdb', 'IPython.utils', 'IPython.utils.PyColorize', 'IPython.utils.coloransi', 'IPython.utils.ipstruct', 'IPython.utils.colorable', 'pygments', 'pygments.util', 'IPython.utils.py3compat', 'IPython.utils.encoding', 'IPython.core.excolors', 'IPython.testing', 'IPython.testing.skipdoctest', 'pdb', 'cmd', 'code', 'codeop', 'IPython.core.display_trap', 'IPython.utils.path', 'IPython.utils.process', 'IPython.utils._process_posix', 'pexpect', 'pexpect.exceptions', 'pexpect.utils', 'pexpect.expect', 'pexpect.pty_spawn', 'pty', 'tty', 'termios', 'ptyprocess', 'ptyprocess.ptyprocess', 'fcntl', 'resource', 'ptyprocess.util', 'pexpect.spawnbase', 'pexpect.run', 'IPython.utils._process_common', 'shlex', 'IPython.utils.decorators', 'IPython.utils.data', 'IPython.utils.terminal', 'IPython.utils.sysinfo', 'IPython.utils._sysinfo', 'IPython.core.profiledir', 'IPython.paths', 'tempfile', 'IPython.utils.importstring', 'IPython.terminal', 'IPython.terminal.embed', 'IPython.core.compilerop', 'IPython.core.magic_arguments', 'IPython.core.error', 'IPython.utils.text', 'pathlib', 'ntpath', 'IPython.core.magic', 'getopt', 'IPython.core.oinspect', 'IPython.core.page', 'IPython.core.display', 'binascii', 'mimetypes', 'IPython.lib', 'IPython.lib.security', 'getpass', 'IPython.lib.pretty', 'datetime', '_datetime', 'IPython.utils.openpy', 'IPython.utils.dir2', 'IPython.utils.wildcard', 'pygments.lexers', 'pygments.lexers._mapping', 'pygments.modeline', 'pygments.plugin', 'pygments.lexers.python', 'pygments.lexer', 'pygments.filter', 'pygments.filters', 'pygments.token', 'pygments.regexopt', 'pygments.unistring', 'pygments.formatters', 'pygments.formatters._mapping', 'pygments.formatters.html', 'pygments.formatter', 'pygments.styles', 'IPython.core.inputtransformer2', 'typing', 'typing.io', 'typing.re', 'IPython.core.interactiveshell', 'asyncio', 'asyncio.base_events', 'concurrent', 'concurrent.futures', 'concurrent.futures._base', 'socket', '_socket', 'ssl', '_ssl', 'base64', 'asyncio.constants', 'asyncio.coroutines', 'asyncio.base_futures', 'asyncio.format_helpers', 'asyncio.log', 'asyncio.events', 'contextvars', '_contextvars', 'asyncio.base_tasks', '_asyncio', 'asyncio.futures', 'asyncio.protocols', 'asyncio.sslproto', 'asyncio.transports', 'asyncio.tasks', 'asyncio.locks', 'asyncio.runners', 'asyncio.queues', 'asyncio.streams', 'asyncio.subprocess', 'asyncio.unix_events', 'asyncio.base_subprocess', 'asyncio.selector_events', 'pickleshare', 'pickle', '_compat_pickle', '_pickle', 'IPython.core.prefilter', 'IPython.core.autocall', 'IPython.core.macro', 'IPython.core.splitinput', 'IPython.core.alias', 'IPython.core.builtin_trap', 'IPython.core.events', 'backcall', 'backcall.backcall', 'IPython.core.displayhook', 'IPython.core.displaypub', 'IPython.core.extensions', 'IPython.core.formatters', 'IPython.utils.sentinel', 'IPython.core.history', 'sqlite3', 'sqlite3.dbapi2', '_sqlite3', 'IPython.core.logger', 'IPython.core.payload', 'IPython.core.usage', 'IPython.display', 'IPython.lib.display', 'html', 'html.entities', 'IPython.utils.io', 'IPython.utils.capture', 'IPython.utils.strdispatch', 'IPython.core.hooks', 'IPython.utils.syspathcontext', 'IPython.utils.tempdir', 'IPython.utils.contexts', 'IPython.core.async_helpers', 'IPython.terminal.interactiveshell', 'prompt_toolkit', 'prompt_toolkit.application', 'prompt_toolkit.application.application', 'prompt_toolkit.buffer', 'six.moves', 'prompt_toolkit.application.current', 'prompt_toolkit.eventloop', 'prompt_toolkit.eventloop.async_generator', 'queue', '_queue', 'six.moves.queue', 'prompt_toolkit.eventloop.coroutine', 'prompt_toolkit.eventloop.defaults', 'prompt_toolkit.utils', 'wcwidth', 'wcwidth.wcwidth', 'wcwidth.table_wide', 'wcwidth.table_zero', 'prompt_toolkit.cache', 'prompt_toolkit.eventloop.base', 'prompt_toolkit.log', 'prompt_toolkit.eventloop.future', 'prompt_toolkit.eventloop.context', 'prompt_toolkit.eventloop.event', 'prompt_toolkit.application.run_in_terminal', 'prompt_toolkit.auto_suggest', 'prompt_toolkit.filters', 'prompt_toolkit.filters.app', 'prompt_toolkit.enums', 'prompt_toolkit.filters.base', 'prompt_toolkit.filters.cli', 'prompt_toolkit.filters.utils', 'prompt_toolkit.clipboard', 'prompt_toolkit.clipboard.base', 'prompt_toolkit.selection', 'prompt_toolkit.clipboard.in_memory', 'prompt_toolkit.completion', 'prompt_toolkit.completion.base', 'prompt_toolkit.completion.filesystem', 'prompt_toolkit.completion.fuzzy_completer', 'prompt_toolkit.document', 'prompt_toolkit.completion.word_completer', 'prompt_toolkit.history', 'prompt_toolkit.search', 'prompt_toolkit.key_binding', 'prompt_toolkit.key_binding.key_bindings', 'prompt_toolkit.keys', 'prompt_toolkit.key_binding.vi_state', 'prompt_toolkit.validation', 'prompt_toolkit.input', 'prompt_toolkit.input.base', 'prompt_toolkit.input.defaults', 'prompt_toolkit.input.typeahead', 'prompt_toolkit.key_binding.bindings', 'prompt_toolkit.key_binding.bindings.page_navigation', 'prompt_toolkit.key_binding.bindings.scroll', 'prompt_toolkit.key_binding.defaults', 'prompt_toolkit.key_binding.bindings.basic', 'prompt_toolkit.key_binding.key_processor', 'prompt_toolkit.key_binding.bindings.named_commands', 'prompt_toolkit.key_binding.bindings.completion', 'prompt_toolkit.key_binding.bindings.cpr', 'prompt_toolkit.key_binding.bindings.emacs', 'prompt_toolkit.key_binding.bindings.mouse', 'prompt_toolkit.layout', 'prompt_toolkit.layout.containers', 'prompt_toolkit.formatted_text', 'prompt_toolkit.formatted_text.ansi', 'prompt_toolkit.output', 'prompt_toolkit.output.base', 'prompt_toolkit.layout.screen', 'prompt_toolkit.output.color_depth', 'prompt_toolkit.output.defaults', 'prompt_toolkit.output.vt100', 'array', 'prompt_toolkit.styles', 'prompt_toolkit.styles.base', 'prompt_toolkit.styles.defaults', 'prompt_toolkit.styles.named_colors', 'prompt_toolkit.styles.style', 'prompt_toolkit.styles.pygments', 'prompt_toolkit.styles.style_transformation', 'colorsys', 'prompt_toolkit.formatted_text.base', 'prompt_toolkit.formatted_text.html', 'xml', 'xml.dom', 'xml.dom.domreg', 'xml.dom.minidom', 'xml.dom.minicompat', 'xml.dom.xmlbuilder', 'xml.dom.NodeFilter', 'prompt_toolkit.formatted_text.pygments', 'prompt_toolkit.formatted_text.utils', 'prompt_toolkit.mouse_events', 'prompt_toolkit.layout.controls', 'prompt_toolkit.lexers', 'prompt_toolkit.lexers.base', 'prompt_toolkit.lexers.pygments', 'prompt_toolkit.layout.processors', 'prompt_toolkit.layout.utils', 'prompt_toolkit.layout.dimension', 'prompt_toolkit.layout.margins', 'prompt_toolkit.layout.layout', 'prompt_toolkit.layout.menus', 'prompt_toolkit.renderer', 'prompt_toolkit.layout.mouse_handlers', 'prompt_toolkit.key_binding.bindings.vi', 'prompt_toolkit.input.vt100_parser', 'prompt_toolkit.input.ansi_escape_sequences', 'prompt_toolkit.key_binding.digraphs', 'prompt_toolkit.key_binding.emacs_state', 'prompt_toolkit.layout.dummy', 'prompt_toolkit.application.dummy', 'prompt_toolkit.shortcuts', 'prompt_toolkit.shortcuts.dialogs', 'prompt_toolkit.key_binding.bindings.focus', 'prompt_toolkit.widgets', 'prompt_toolkit.widgets.base', 'prompt_toolkit.widgets.toolbars', 'prompt_toolkit.widgets.dialogs', 'prompt_toolkit.widgets.menus', 'prompt_toolkit.shortcuts.progress_bar', 'prompt_toolkit.shortcuts.progress_bar.base', 'prompt_toolkit.shortcuts.progress_bar.formatters', 'prompt_toolkit.shortcuts.prompt', 'prompt_toolkit.key_binding.bindings.auto_suggest', 'prompt_toolkit.key_binding.bindings.open_in_editor', 'prompt_toolkit.shortcuts.utils', 'prompt_toolkit.patch_stdout', 'pygments.style', 'IPython.terminal.debugger', 'IPython.core.completer', 'unicodedata', 'IPython.core.latex_symbols', 'IPython.utils.generics', 'jedi', 'jedi.api', 'parso', 'parso.parser', 'parso.tree', 'parso._compatibility', 'parso.utils', 'parso.pgen2', 'parso.pgen2.generator', 'parso.pgen2.grammar_parser', 'parso.python', 'parso.python.tokenize', 'parso.python.token', 'parso.grammar', 'parso.python.diff', 'difflib', 'parso.python.parser', 'parso.python.tree', 'parso.python.prefix', 'parso.cache', 'gc', 'parso.python.errors', 'parso.normalizer', 'parso.python.pep8', 'parso.file_io', 'jedi._compatibility', 'jedi.file_io', 'jedi.parser_utils', 'jedi.debug', 'jedi.settings', 'jedi.cache', 'jedi.api.classes', 'jedi.evaluate', 'jedi.evaluate.utils', 'jedi.evaluate.imports', 'jedi.evaluate.sys_path', 'jedi.evaluate.cache', 'jedi.evaluate.base_context', 'jedi.common', 'jedi.common.context', 'jedi.evaluate.helpers', 'jedi.common.utils', 'jedi.evaluate.compiled', 'jedi.evaluate.compiled.context', 'jedi.evaluate.filters', 'jedi.evaluate.flow_analysis', 'jedi.evaluate.recursion', 'jedi.evaluate.names', 'jedi.evaluate.lazy_context', 'jedi.evaluate.compiled.access', 'jedi.evaluate.compiled.getattr_static', 'jedi.evaluate.signature', 'jedi.evaluate.analysis', 'jedi.evaluate.gradual', 'jedi.evaluate.gradual.typeshed', 'jedi.evaluate.gradual.stub_context', 'jedi.evaluate.context', 'jedi.evaluate.context.module', 'jedi.evaluate.context.klass', 'jedi.evaluate.arguments', 'jedi.evaluate.context.iterable', 'jedi.evaluate.param', 'jedi.evaluate.docstrings', 'jedi.evaluate.context.function', 'jedi.evaluate.parser_cache', 'jedi.plugins', 'jedi.evaluate.context.instance', 'jedi.evaluate.gradual.typing', 'jedi.evaluate.syntax_tree', 'jedi.evaluate.finder', 'jedi.evaluate.gradual.conversion', 'jedi.evaluate.gradual.annotation', 'jedi.evaluate.context.decorator', 'jedi.api.keywords', 'pydoc_data', 'pydoc_data.topics', 'jedi.api.interpreter', 'jedi.evaluate.compiled.mixed', 'jedi.api.helpers', 'jedi.api.completion', 'jedi.api.file_name', 'jedi.api.environment', 'filecmp', 'jedi.evaluate.compiled.subprocess', 'jedi.evaluate.compiled.subprocess.functions', 'jedi.api.exceptions', 'jedi.api.project', 'jedi.evaluate.usages', 'jedi.evaluate.gradual.utils', 'jedi.plugins.registry', 'jedi.plugins.stdlib', 'jedi.plugins.flask', 'IPython.terminal.ptutils', 'IPython.terminal.shortcuts', 'IPython.terminal.magics', 'IPython.lib.clipboard', 'IPython.terminal.pt_inputhooks', 'IPython.terminal.prompts', 'IPython.terminal.ipapp', 'IPython.core.magics', 'IPython.core.magics.auto', 'IPython.core.magics.basic', 'IPython.core.magics.code', 'urllib.request', 'email', 'http', 'http.client', 'email.parser', 'email.feedparser', 'email.errors', 'email._policybase', 'email.header', 'email.quoprimime', 'email.base64mime', 'email.charset', 'email.encoders', 'quopri', 'email.utils', 'email._parseaddr', 'calendar', 'email.message', 'uu', 'email._encoded_words', 'email.iterators', 'urllib.error', 'urllib.response', '_scproxy', 'IPython.core.magics.config', 'IPython.core.magics.display', 'IPython.core.magics.execution', 'timeit', 'cProfile', '_lsprof', 'profile', 'pstats', 'IPython.utils.module_paths', 'IPython.utils.timing', 'IPython.core.magics.extension', 'IPython.core.magics.history', 'IPython.core.magics.logging', 'IPython.core.magics.namespace', 'IPython.core.magics.osm', 'IPython.core.magics.packaging', 'IPython.core.magics.pylab', 'IPython.core.pylabtools', 'IPython.core.magics.script', 'IPython.lib.backgroundjobs', 'IPython.core.shellapp', 'IPython.extensions', 'IPython.extensions.storemagic', 'IPython.utils.frame', 'jupyter_client', 'jupyter_client._version', 'jupyter_client.connect', 'zmq', 'ctypes', '_ctypes', 'ctypes._endian', 'zmq.libzmq', 'zmq.backend', 'zmq.backend.select', 'zmq.backend.cython', 'zmq.backend.cython.constants', 'cython_runtime', 'zmq.backend.cython.error', '_cython_0_29_13', 'zmq.backend.cython.message', 'zmq.error', 'zmq.backend.cython.context', 'zmq.backend.cython.socket', 'zmq.backend.cython.utils', 'zmq.backend.cython._poll', 'zmq.backend.cython._version', 'zmq.backend.cython._device', 'zmq.backend.cython._proxy_steerable', 'zmq.sugar', 'zmq.sugar.constants', 'zmq.utils', 'zmq.utils.constant_names', 'zmq.sugar.context', 'zmq.sugar.attrsettr', 'zmq.sugar.socket', 'zmq.sugar.poll', 'zmq.utils.jsonapi', 'zmq.utils.strtypes', 'zmq.sugar.frame', 'zmq.sugar.tracker', 'zmq.sugar.version', 'zmq.sugar.stopwatch', 'jupyter_client.localinterfaces', 'jupyter_core', 'jupyter_core.version', 'jupyter_core.paths', 'jupyter_client.launcher', 'traitlets.log', 'jupyter_client.client', 'jupyter_client.channels', 'jupyter_client.channelsabc', 'jupyter_client.clientabc', 'jupyter_client.manager', 'jupyter_client.kernelspec', 'jupyter_client.managerabc', 'jupyter_client.blocking', 'jupyter_client.blocking.client', 'jupyter_client.blocking.channels', 'jupyter_client.multikernelmanager', 'uuid', '_uuid', 'ipykernel.kernelapp', 'tornado', 'tornado.ioloop', 'numbers', 'tornado.concurrent', 'tornado.log', 'logging.handlers', 'tornado.escape', 'tornado.util', 'curses', '_curses', 'zmq.eventloop', 'zmq.eventloop.ioloop', 'tornado.platform', 'tornado.platform.asyncio', 'tornado.gen', 'zmq.eventloop.zmqstream', 'ipykernel.iostream', 'imp', 'jupyter_client.session', 'hmac', 'jupyter_client.jsonutil', 'dateutil', 'dateutil._version', 'dateutil.parser', 'dateutil.parser._parser', 'decimal', '_decimal', 'dateutil.relativedelta', 'dateutil._common', 'dateutil.tz', 'dateutil.tz.tz', 'dateutil.tz._common', 'dateutil.tz._factories', 'dateutil.parser.isoparser', '_strptime', 'jupyter_client.adapter', 'ipykernel.heartbeat', 'ipykernel.ipkernel', 'IPython.utils.tokenutil', 'ipykernel.comm', 'ipykernel.comm.manager', 'ipykernel.comm.comm', 'ipykernel.kernelbase', 'tornado.queues', 'tornado.locks', 'ipykernel.jsonutil', 'ipykernel.zmqshell', 'IPython.core.payloadpage', 'ipykernel.displayhook', 'ipykernel.parentpoller', 'faulthandler', 'ipykernel.datapub', 'ipykernel.serialize', 'ipykernel.pickleutil', 'ipykernel.codeutil', 'IPython.core.completerlib', 'storemagic', 'docx2txt', 'docx2txt.docx2txt', 'xml.etree', 'xml.etree.ElementTree', 'xml.etree.ElementPath', 'pyexpat.errors', 'pyexpat.model', 'pyexpat', '_elementtree', 'zipfile', 'textract', 'textract.parsers', 'textract.exceptions', 'src', 'src.utils', 'src.utils.basic_processor', 'src.utils.decorators', 'flask_jwt_extended', 'flask_jwt_extended.jwt_manager', 'jwt', 'jwt.api_jwt', 'jwt.api_jws', 'jwt.algorithms', 'jwt.compat', 'jwt.exceptions', 'jwt.utils', 'flask', 'jinja2', 'jinja2.environment', 'jinja2.nodes', 'jinja2.utils', 'jinja2._compat', 'markupsafe', 'markupsafe._compat', 'markupsafe._native', 'jinja2.defaults', 'jinja2.filters', 'jinja2.runtime', 'jinja2.exceptions', 'jinja2.tests', 'jinja2.lexer', 'jinja2.parser', 'jinja2.compiler', 'jinja2.visitor', 'jinja2.optimizer', 'jinja2.idtracking', 'jinja2.loaders', 'jinja2.bccache', 'jinja2.asyncsupport', 'jinja2.asyncfilters', 'werkzeug', 'werkzeug.serving', 'werkzeug._compat', 'werkzeug._internal', 'werkzeug.exceptions', 'werkzeug.utils', 'werkzeug.urls', 'socketserver', 'http.server', 'werkzeug.test', 'werkzeug.datastructures', 'werkzeug.filesystem', 'werkzeug.http', 'werkzeug.wrappers', 'werkzeug.wrappers.accept', 'werkzeug.wrappers.auth', 'werkzeug.wrappers.base_request', 'werkzeug.formparser', 'werkzeug.wsgi', 'werkzeug.wrappers.base_response', 'werkzeug.wrappers.common_descriptors', 'werkzeug.wrappers.etag', 'werkzeug.wrappers.request', 'werkzeug.wrappers.user_agent', 'werkzeug.useragents', 'werkzeug.wrappers.response', 'http.cookiejar', 'flask.json', 'itsdangerous', 'itsdangerous._json', 'itsdangerous.encoding', 'itsdangerous._compat', 'itsdangerous.exc', 'itsdangerous.jws', 'itsdangerous.serializer', 'itsdangerous.signer', 'itsdangerous.timed', 'itsdangerous.url_safe', 'flask._compat', 'flask.globals', 'werkzeug.local', 'dataclasses', 'flask.app', 'werkzeug.routing', 'flask.cli', 'click', 'click.core', 'click.types', 'click._compat', 'click.exceptions', 'click.utils', 'click.globals', 'click.termui', 'click.formatting', 'click.parser', 'click._unicodefun', 'click.decorators', 'flask.helpers', 'flask.signals', 'flask.config', 'flask.ctx', 'flask.logging', 'flask.sessions', 'flask.json.tag', 'flask.templating', 'flask.wrappers', 'werkzeug.wrappers.json', 'flask.blueprints', 'flask_jwt_extended.config', 'flask_jwt_extended.exceptions', 'flask_jwt_extended.default_callbacks', 'flask_jwt_extended.tokens', 'werkzeug.security', 'flask_jwt_extended.utils', 'flask_jwt_extended.view_decorators', 'src.errors', 'src.errors.errors', 'pandas', 'numpy', 'numpy._globals', 'numpy.__config__', 'numpy.version', 'numpy._distributor_init', 'numpy.core', 'numpy.core.info', 'numpy.core.multiarray', 'numpy.core.overrides', 'numpy.core._multiarray_umath', 'numpy.compat', 'numpy.compat._inspect', 'numpy.compat.py3k', 'numpy.core.umath', 'numpy.core.numerictypes', 'numpy.core._string_helpers', 'numpy.core._type_aliases', 'numpy.core._dtype', 'numpy.core.numeric', 'numpy.core._exceptions', 'numpy.core._asarray', 'numpy.core._ufunc_config', 'numpy.core.fromnumeric', 'numpy.core._methods', 'numpy.core.arrayprint', 'numpy.core.defchararray', 'numpy.core.records', 'numpy.core.memmap', 'numpy.core.function_base', 'numpy.core.machar', 'numpy.core.getlimits', 'numpy.core.shape_base', 'numpy.core.einsumfunc', 'numpy.core._add_newdocs', 'numpy.core._multiarray_tests', 'numpy.core._dtype_ctypes', 'numpy.core._internal', 'numpy._pytesttester', 'numpy.lib', 'numpy.lib.info', 'numpy.lib.type_check', 'numpy.lib.ufunclike', 'numpy.lib.index_tricks', 'numpy.matrixlib', 'numpy.matrixlib.defmatrix', 'numpy.linalg', 'numpy.linalg.info', 'numpy.linalg.linalg', 'numpy.lib.twodim_base', 'numpy.linalg.lapack_lite', 'numpy.linalg._umath_linalg', 'numpy.lib.function_base', 'numpy.lib.histograms', 'numpy.lib.stride_tricks', 'numpy.lib.mixins', 'numpy.lib.nanfunctions', 'numpy.lib.shape_base', 'numpy.lib.scimath', 'numpy.lib.polynomial', 'numpy.lib.utils', 'numpy.lib.arraysetops', 'numpy.lib.npyio', 'numpy.lib.format', 'numpy.lib._datasource', 'numpy.lib._iotools', 'numpy.lib.financial', 'numpy.lib.arrayterator', 'numpy.lib.arraypad', 'numpy.lib._version', 'numpy.fft', 'numpy.fft._pocketfft', 'numpy.fft._pocketfft_internal', 'numpy.fft.helper', 'numpy.polynomial', 'numpy.polynomial.polynomial', 'numpy.polynomial.polyutils', 'numpy.polynomial._polybase', 'numpy.polynomial.chebyshev', 'numpy.polynomial.legendre', 'numpy.polynomial.hermite', 'numpy.polynomial.hermite_e', 'numpy.polynomial.laguerre', 'numpy.random', 'numpy.random._pickle', 'numpy.random.mtrand', 'numpy.random.common', 'numpy.random.bounded_integers', 'numpy.random.mt19937', 'numpy.random.bit_generator', '_cython_0_29_14', 'secrets', 'numpy.random.philox', 'numpy.random.pcg64', 'numpy.random.sfc64', 'numpy.random.generator', 'numpy.ctypeslib', 'numpy.ma', 'numpy.ma.core', 'numpy.ma.extras', 'numpy.testing', 'unittest', 'unittest.result', 'unittest.util', 'unittest.case', 'unittest.suite', 'unittest.loader', 'unittest.main', 'unittest.runner', 'unittest.signals', 'numpy.testing._private', 'numpy.testing._private.utils', 'numpy.testing._private.decorators', 'numpy.testing._private.nosetester', 'pytz', 'pytz.exceptions', 'pytz.lazy', 'pytz.tzinfo', 'pytz.tzfile', 'pandas.compat', 'pandas.compat.numpy', 'distutils', 'distutils.version', 'pandas._libs', 'pandas._libs.tslibs', 'pandas._libs.tslibs.conversion', 'pandas._libs.tslibs.c_timestamp', 'pandas._libs.tslibs.nattype', 'pandas._libs.tslibs.np_datetime', 'pandas._libs.tslibs.timezones', 'pandas._libs.tslibs.tzconversion', 'pandas._libs.tslibs.timedeltas', 'pandas._libs.tslibs.offsets', 'pandas._libs.tslibs.ccalendar', 'pandas._config', 'pandas._config.config', 'pandas._config.dates', 'pandas._config.display', 'pandas._config.localization', 'pandas._libs.tslibs.strptime', 'pandas._libs.tslibs.fields', 'pandas._libs.tslibs.parsing', 'pandas._libs.tslibs.period', 'pandas._libs.tslibs.frequencies', 'pandas._libs.tslibs.timestamps', 'pandas._libs.tslibs.resolution', 'pandas._libs.hashtable', 'pandas._libs.missing', 'pandas._libs.lib', 'fractions', 'pandas._libs.tslib', 'pandas.core', 'pandas.core.config_init', 'pandas.core.api', 'pandas.core.arrays', 'pandas.core.arrays.array_', 'pandas.core.dtypes', 'pandas.core.dtypes.common', 'pandas._libs.algos', 'pandas.core.dtypes.dtypes', 'pandas._libs.interval', 'pandas.core.dtypes.generic', 'pandas.core.dtypes.base', 'pandas.errors', 'pandas.core.dtypes.inference', 'pandas._typing', 'pandas.core.arrays.base', 'pandas.compat.numpy.function', 'pandas.util', 'pandas.util._decorators', 'pandas._libs.properties', 'pandas.core.util', 'pandas.core.util.hashing', 'pandas._libs.hashing', 'pandas.core.dtypes.cast', 'pandas.core.dtypes.missing', 'pandas.util._validators', 'pandas.core.ops', 'pandas._libs.ops', 'pandas.core.common', 'pandas.core.ops.missing', 'pandas.core.ops.roperator', 'pandas.core.ops.docstrings', 'pandas.core.sorting', 'pandas.core.algorithms', 'pandas.core.indexers', 'pandas.core.arrays.categorical', 'pandas.core.accessor', 'pandas.core.base', 'pandas.core.nanops', 'pandas.compat._optional', 'pandas.core.missing', 'pandas.io', 'pandas.io.formats', 'pandas.io.formats.console', 'pandas.core.arrays.datetimes', 'pandas.core.arrays.datetimelike', 'pandas.tseries', 'pandas.tseries.frequencies', 'pandas.tseries.offsets', 'dateutil.easter', 'pandas.core.tools', 'pandas.core.tools.datetimes', 'pandas.core.arrays._ranges', 'pandas.core.arrays.integer', 'pandas.core.tools.numeric', 'pandas.core.arrays.interval', 'pandas.core.indexes', 'pandas.core.indexes.base', 'pandas._libs.index', 'pandas._libs.join', 'pandas.core.dtypes.concat', 'pandas.core.indexes.frozen', 'pandas.io.formats.printing', 'pandas.core.strings', 'pandas.core.arrays.numpy_', 'pandas.core.arrays.period', 'pandas.core.arrays.sparse', 'pandas._libs.sparse', 'pandas.core.arrays.timedeltas', 'pandas.core.groupby', 'pandas.core.groupby.generic', 'pandas.core.frame', 'pandas.core.generic', 'pandas.core.index', 'pandas.core.indexes.api', 'pandas.core.indexes.category', 'pandas.core.indexes.datetimes', 'pandas.core.indexes.datetimelike', 'pandas.core.tools.timedeltas', 'pandas.core.indexes.numeric', 'pandas.core.indexes.interval', 'pandas.util._exceptions', 'pandas.core.indexes.multi', 'pandas.core.indexes.timedeltas', 'pandas.core.indexes.period', 'pandas.core.indexes.range', 'pandas.core.indexing', 'pandas._libs.indexing', 'pandas.core.internals', 'pandas.core.internals.blocks', 'pandas._libs.internals', 'pandas.core.internals.arrays', 'pandas.core.internals.managers', 'pandas.core.internals.concat', 'pandas.io.formats.format', 'pandas.io.common', 'csv', '_csv', 'gzip', 'mmap', 'pandas.core.internals.construction', 'pandas.core.series', 'pandas._libs.reshape', 'pandas.core.indexes.accessors', 'pandas.plotting', 'pandas.plotting._core', 'pandas.plotting._matplotlib', 'pandas.plotting._matplotlib.boxplot', 'matplotlib', 'matplotlib.cbook', 'matplotlib.cbook.deprecation', 'matplotlib.rcsetup', 'matplotlib.fontconfig_pattern', 'pyparsing', 'matplotlib.colors', 'matplotlib._color_data', 'cycler', 'matplotlib._version', 'matplotlib.ft2font', 'kiwisolver']\n"
     ]
    },
    {
     "name": "stderr",
     "output_type": "stream",
     "text": [
      "DEBUG:matplotlib:CACHEDIR=/Users/bartek/.matplotlib\n",
      "DEBUG:matplotlib.font_manager:Using fontManager instance from /Users/bartek/.matplotlib/fontlist-v310.json\n"
     ]
    }
   ],
   "source": [
    "import sys\n",
    "sys.path.append('/Users/bartek/.pyenv/versions/3.8.0/lib/python3.8/site-packages')\n",
    "import os\n",
    "import docx2txt\n",
    "import textract\n",
    "from src.utils.basic_processor import BasicProcessor\n",
    "import pandas as pd\n",
    "from stempel import StempelStemmer\n",
    "from sklearn import model_selection, naive_bayes, svm\n",
    "from sklearn.preprocessing import LabelEncoder\n",
    "from sklearn.metrics import accuracy_score\n",
    "from sklearn.feature_extraction.text import TfidfVectorizer\n",
    "from nltk.tokenize import word_tokenize"
   ]
  },
  {
   "cell_type": "code",
   "execution_count": 6,
   "metadata": {
    "scrolled": true
   },
   "outputs": [
    {
     "name": "stderr",
     "output_type": "stream",
     "text": [
      "[nltk_data] Downloading package punkt to /Users/bartek/nltk_data...\n",
      "[nltk_data]   Package punkt is already up-to-date!\n"
     ]
    },
    {
     "data": {
      "text/plain": [
       "True"
      ]
     },
     "execution_count": 6,
     "metadata": {},
     "output_type": "execute_result"
    }
   ],
   "source": [
    "import nltk\n",
    "nltk.download('punkt')"
   ]
  },
  {
   "cell_type": "code",
   "execution_count": 206,
   "metadata": {
    "collapsed": true
   },
   "outputs": [
    {
     "data": {
      "text/plain": [
       "['przepisanie_oceny_Ist.doc',\n",
       " 'karta_od_s.pdf',\n",
       " 'karta_odejsciastac.doc',\n",
       " 'przygotowane',\n",
       " '.DS_Store',\n",
       " '8.pdf',\n",
       " 'Podanie-o-przepisanie-ocen-new.doc',\n",
       " '11_04_2018_formularz_wniosku_skreślenie.docx',\n",
       " 'potw_zal.doc',\n",
       " '2_1_Podanie_o_IOS_v1.docx',\n",
       " 'podanie_reaktyw_ps1.doc',\n",
       " '2_8_Podanie_o_kontynuowanie_studiow_z_deficytem_ECTS.docx',\n",
       " 'karta_odejscia.pdf',\n",
       " '2015_wzor_podanie_prodziekan.docx',\n",
       " 'wpis-z-deficytem.doc',\n",
       " 'zgloszenie_tematu_pr_licencjackiej.doc',\n",
       " 'podanie_o_wpis_z_deficytem_punktow_6.pdf',\n",
       " '2_4_Podanie_o_przepisanie_ocen.docx',\n",
       " '3_1_Zgloszenie_tematu_pracy_inzynierskiej_1.docx',\n",
       " 'podanie_przepisanie_ocen.doc',\n",
       " '20191001133805-Wzor_oswiadczenia_o_rezygnacji_ze_studiow-1.docx',\n",
       " 'Podanie-o-wpis_na_kolejny_semestr_z_def._ECTS_new.doc',\n",
       " 'Podanie-o-przyznanie-IOS.docx',\n",
       " 'zgłoszenie-tematu-inż.-2019-2.doc',\n",
       " 'podanie-o-IPS.doc',\n",
       " 'Podanie-o-przeniesienie.docx',\n",
       " 'podanie_ogolne.pdf',\n",
       " 'podanie-o-wpis-na-semestr-z-deficytem-punktów-ECTS.doc',\n",
       " 'Podanie-do-Dziekana.doc',\n",
       " '20190903082233-20180917100730-20170919101900-20160901142149-20150923141517-podanie_o_wpis na semestr z deficytem-1.doc',\n",
       " 'wzor_odwolania_Prorektor_ds_Ksztalcenia.doc',\n",
       " '2016-podanie-o-IPS-1.pdf',\n",
       " 'Wzór-oświadczenia-o-rezygnacji-ze-studiów.docx',\n",
       " 'podanie_Dziekan_Telejko.doc',\n",
       " 'wniosek-opłata-za-powtarzanie.docx',\n",
       " 'podanie_powtorka1.doc',\n",
       " 'druk - skierowanie na praktyki WMS-1.docx',\n",
       " 'podanie-przeniesienie.doc']"
      ]
     },
     "execution_count": 206,
     "metadata": {},
     "output_type": "execute_result"
    }
   ],
   "source": [
    "filenames"
   ]
  },
  {
   "cell_type": "code",
   "execution_count": 30,
   "metadata": {},
   "outputs": [],
   "source": [
    "PATH = '/Users/bartek/Desktop/dokumenty'\n",
    "DATASET_PATH = PATH + \"/przygotowane\""
   ]
  },
  {
   "cell_type": "code",
   "execution_count": 31,
   "metadata": {},
   "outputs": [],
   "source": [
    "filenames = os.listdir(PATH)"
   ]
  },
  {
   "cell_type": "code",
   "execution_count": 32,
   "metadata": {},
   "outputs": [
    {
     "name": "stderr",
     "output_type": "stream",
     "text": [
      "\n",
      "Loading:   0%|          | 0/11368252 [00:00<?, ?bytes/s]\u001b[A\n",
      "Loading:   0%|          | 40409/11368252 [00:00<00:28, 404082.68bytes/s]\u001b[A\n",
      "Loading:   1%|          | 101249/11368252 [00:00<00:25, 449351.32bytes/s]\u001b[A\n",
      "Loading:   1%|▏         | 157895/11368252 [00:00<00:23, 478995.21bytes/s]\u001b[A\n",
      "Loading:   2%|▏         | 199439/11368252 [00:00<00:24, 457970.81bytes/s]\u001b[A\n",
      "Loading:   2%|▏         | 238407/11368252 [00:00<00:25, 435085.22bytes/s]\u001b[A\n",
      "Loading:   3%|▎         | 288149/11368252 [00:00<00:24, 452079.79bytes/s]\u001b[A\n",
      "Loading:   3%|▎         | 351165/11368252 [00:00<00:22, 493954.36bytes/s]\u001b[A\n",
      "Loading:   4%|▎         | 409919/11368252 [00:00<00:21, 518733.18bytes/s]\u001b[A\n",
      "Loading:   4%|▍         | 461095/11368252 [00:00<00:21, 509041.09bytes/s]\u001b[A\n",
      "Loading:   5%|▍         | 524775/11368252 [00:01<00:20, 541628.97bytes/s]\u001b[A\n",
      "Loading:   5%|▌         | 579197/11368252 [00:01<00:20, 522985.15bytes/s]\u001b[A\n",
      "Loading:   6%|▌         | 631815/11368252 [00:01<00:20, 515139.14bytes/s]\u001b[A\n",
      "Loading:   6%|▌         | 697317/11368252 [00:01<00:19, 550400.71bytes/s]\u001b[A\n",
      "Loading:   7%|▋         | 753203/11368252 [00:01<00:19, 543503.78bytes/s]\u001b[A\n",
      "Loading:   7%|▋         | 808167/11368252 [00:01<00:20, 523711.10bytes/s]\u001b[A\n",
      "Loading:   8%|▊         | 863071/11368252 [00:01<00:19, 531059.62bytes/s]\u001b[A\n",
      "Loading:   8%|▊         | 919441/11368252 [00:01<00:19, 540442.03bytes/s]\u001b[A\n",
      "Loading:   9%|▊         | 980707/11368252 [00:01<00:18, 559383.93bytes/s]\u001b[A\n",
      "Loading:   9%|▉         | 1038137/11368252 [00:01<00:18, 563773.35bytes/s]\u001b[A\n",
      "Loading:  10%|▉         | 1095581/11368252 [00:02<00:18, 566926.48bytes/s]\u001b[A\n",
      "Loading:  10%|█         | 1152487/11368252 [00:02<00:19, 523655.59bytes/s]\u001b[A\n",
      "Loading:  11%|█         | 1205657/11368252 [00:02<00:19, 509187.75bytes/s]\u001b[A\n",
      "Loading:  11%|█         | 1257227/11368252 [00:02<00:20, 499494.99bytes/s]\u001b[A\n",
      "Loading:  12%|█▏        | 1307675/11368252 [00:02<00:20, 486544.64bytes/s]\u001b[A\n",
      "Loading:  12%|█▏        | 1362735/11368252 [00:02<00:19, 504134.25bytes/s]\u001b[A\n",
      "Loading:  12%|█▏        | 1420367/11368252 [00:02<00:18, 523814.20bytes/s]\u001b[A\n",
      "Loading:  13%|█▎        | 1473267/11368252 [00:02<00:20, 479550.69bytes/s]\u001b[A\n",
      "Loading:  13%|█▎        | 1530243/11368252 [00:02<00:19, 503463.40bytes/s]\u001b[A\n",
      "Loading:  14%|█▍        | 1581669/11368252 [00:03<00:21, 462950.74bytes/s]\u001b[A\n",
      "Loading:  14%|█▍        | 1629361/11368252 [00:03<00:21, 461016.92bytes/s]\u001b[A\n",
      "Loading:  15%|█▍        | 1676445/11368252 [00:03<00:21, 456465.78bytes/s]\u001b[A\n",
      "Loading:  15%|█▌        | 1722787/11368252 [00:03<00:21, 440776.64bytes/s]\u001b[A\n",
      "Loading:  16%|█▌        | 1781417/11368252 [00:03<00:20, 476236.97bytes/s]\u001b[A\n",
      "Loading:  16%|█▌        | 1840639/11368252 [00:03<00:18, 505961.70bytes/s]\u001b[A\n",
      "Loading:  17%|█▋        | 1893633/11368252 [00:03<00:18, 512919.39bytes/s]\u001b[A\n",
      "Loading:  17%|█▋        | 1945913/11368252 [00:03<00:19, 472136.71bytes/s]\u001b[A\n",
      "Loading:  18%|█▊        | 1994459/11368252 [00:03<00:19, 471928.70bytes/s]\u001b[A\n",
      "Loading:  18%|█▊        | 2059577/11368252 [00:04<00:18, 514408.03bytes/s]\u001b[A\n",
      "Loading:  19%|█▊        | 2120649/11368252 [00:04<00:17, 539947.61bytes/s]\u001b[A\n",
      "Loading:  19%|█▉        | 2176227/11368252 [00:04<00:18, 502690.24bytes/s]\u001b[A\n",
      "Loading:  20%|█▉        | 2228123/11368252 [00:04<00:18, 505176.45bytes/s]\u001b[A\n",
      "Loading:  20%|██        | 2292903/11368252 [00:04<00:16, 540897.31bytes/s]\u001b[A\n",
      "Loading:  21%|██        | 2355185/11368252 [00:04<00:16, 563112.57bytes/s]\u001b[A\n",
      "Loading:  21%|██        | 2412785/11368252 [00:04<00:17, 520715.25bytes/s]\u001b[A\n",
      "Loading:  22%|██▏       | 2466393/11368252 [00:04<00:17, 506626.33bytes/s]\u001b[A\n",
      "Loading:  22%|██▏       | 2525199/11368252 [00:04<00:16, 528576.95bytes/s]\u001b[A\n",
      "Loading:  23%|██▎       | 2589085/11368252 [00:04<00:15, 557445.42bytes/s]\u001b[A\n",
      "Loading:  23%|██▎       | 2646923/11368252 [00:05<00:15, 563540.73bytes/s]\u001b[A\n",
      "Loading:  24%|██▍       | 2704107/11368252 [00:07<02:21, 61168.35bytes/s] \u001b[A\n",
      "Loading:  24%|██▍       | 2764971/11368252 [00:08<01:42, 83774.91bytes/s]\u001b[A\n",
      "Loading:  25%|██▍       | 2811667/11368252 [00:08<01:17, 110568.68bytes/s]\u001b[A\n",
      "Loading:  25%|██▌       | 2857429/11368252 [00:08<01:00, 141367.65bytes/s]\u001b[A\n",
      "Loading:  26%|██▌       | 2901577/11368252 [00:08<00:47, 177188.84bytes/s]\u001b[A\n",
      "Loading:  26%|██▌       | 2945487/11368252 [00:08<00:39, 213417.53bytes/s]\u001b[A\n",
      "Loading:  26%|██▋       | 2988469/11368252 [00:08<00:34, 245852.23bytes/s]\u001b[A\n",
      "Loading:  27%|██▋       | 3029983/11368252 [00:08<00:30, 276198.87bytes/s]\u001b[A\n",
      "Loading:  27%|██▋       | 3070683/11368252 [00:08<00:27, 299391.45bytes/s]\u001b[A\n",
      "Loading:  27%|██▋       | 3125089/11368252 [00:08<00:23, 346077.19bytes/s]\u001b[A\n",
      "Loading:  28%|██▊       | 3186149/11368252 [00:09<00:20, 397769.47bytes/s]\u001b[A\n",
      "Loading:  29%|██▊       | 3241381/11368252 [00:09<00:18, 434187.78bytes/s]\u001b[A\n",
      "Loading:  29%|██▉       | 3299645/11368252 [00:09<00:17, 470118.39bytes/s]\u001b[A\n",
      "Loading:  30%|██▉       | 3363201/11368252 [00:09<00:15, 509934.94bytes/s]\u001b[A\n",
      "Loading:  30%|███       | 3424767/11368252 [00:09<00:14, 537631.44bytes/s]\u001b[A\n",
      "Loading:  31%|███       | 3482637/11368252 [00:09<00:15, 515914.23bytes/s]\u001b[A\n",
      "Loading:  31%|███       | 3548057/11368252 [00:09<00:14, 550841.96bytes/s]\u001b[A\n",
      "Loading:  32%|███▏      | 3605939/11368252 [00:09<00:16, 457333.05bytes/s]\u001b[A\n",
      "Loading:  32%|███▏      | 3656285/11368252 [00:10<00:19, 389931.27bytes/s]\u001b[A\n",
      "Loading:  33%|███▎      | 3712001/11368252 [00:10<00:17, 428491.95bytes/s]\u001b[A\n",
      "Loading:  33%|███▎      | 3759475/11368252 [00:10<00:18, 422246.15bytes/s]\u001b[A\n",
      "Loading:  33%|███▎      | 3804959/11368252 [00:10<00:18, 409902.16bytes/s]\u001b[A\n",
      "Loading:  34%|███▍      | 3848309/11368252 [00:10<00:18, 405453.21bytes/s]\u001b[A\n",
      "Loading:  34%|███▍      | 3908471/11368252 [00:10<00:16, 449412.56bytes/s]\u001b[A\n",
      "Loading:  35%|███▍      | 3970867/11368252 [00:10<00:15, 490581.15bytes/s]\u001b[A\n",
      "Loading:  35%|███▌      | 4027545/11368252 [00:10<00:14, 511196.58bytes/s]\u001b[A\n",
      "Loading:  36%|███▌      | 4091037/11368252 [00:10<00:13, 542933.44bytes/s]\u001b[A\n",
      "Loading:  36%|███▋      | 4147483/11368252 [00:10<00:14, 502797.81bytes/s]\u001b[A\n",
      "Loading:  37%|███▋      | 4199861/11368252 [00:11<00:15, 473022.61bytes/s]\u001b[A\n",
      "Loading:  37%|███▋      | 4248993/11368252 [00:11<00:15, 466345.82bytes/s]\u001b[A\n",
      "Loading:  38%|███▊      | 4296931/11368252 [00:11<00:15, 450823.14bytes/s]\u001b[A\n",
      "Loading:  38%|███▊      | 4357289/11368252 [00:11<00:14, 487859.77bytes/s]\u001b[A\n",
      "Loading:  39%|███▉      | 4420817/11368252 [00:11<00:13, 524362.83bytes/s]\u001b[A\n",
      "Loading:  39%|███▉      | 4475145/11368252 [00:11<00:14, 491457.61bytes/s]\u001b[A\n",
      "Loading:  40%|███▉      | 4526033/11368252 [00:11<00:14, 474428.44bytes/s]\u001b[A\n",
      "Loading:  40%|████      | 4574823/11368252 [00:11<00:14, 472822.09bytes/s]\u001b[A\n",
      "Loading:  41%|████      | 4623051/11368252 [00:12<00:15, 448581.09bytes/s]\u001b[A\n",
      "Loading:  41%|████      | 4681391/11368252 [00:12<00:13, 481989.43bytes/s]\u001b[A\n",
      "Loading:  42%|████▏     | 4743589/11368252 [00:12<00:12, 516888.46bytes/s]\u001b[A\n",
      "Loading:  42%|████▏     | 4796933/11368252 [00:12<00:12, 519131.10bytes/s]\u001b[A\n",
      "Loading:  43%|████▎     | 4850005/11368252 [00:12<00:12, 503470.77bytes/s]\u001b[A\n",
      "Loading:  43%|████▎     | 4901267/11368252 [00:12<00:13, 493215.49bytes/s]\u001b[A\n",
      "Loading:  44%|████▎     | 4951275/11368252 [00:12<00:13, 482860.06bytes/s]\u001b[A\n",
      "Loading:  44%|████▍     | 5000091/11368252 [00:12<00:13, 478274.12bytes/s]\u001b[A\n",
      "Loading:  44%|████▍     | 5048301/11368252 [00:12<00:13, 477650.00bytes/s]\u001b[A\n",
      "Loading:  45%|████▍     | 5100735/11368252 [00:12<00:12, 490751.55bytes/s]\u001b[A\n",
      "Loading:  45%|████▌     | 5156307/11368252 [00:13<00:12, 508569.57bytes/s]\u001b[A\n",
      "Loading:  46%|████▌     | 5217063/11368252 [00:13<00:11, 534699.03bytes/s]\u001b[A\n",
      "Loading:  46%|████▋     | 5280075/11368252 [00:13<00:10, 560145.15bytes/s]\u001b[A\n",
      "Loading:  47%|████▋     | 5346475/11368252 [00:13<00:10, 587720.77bytes/s]\u001b[A\n",
      "Loading:  48%|████▊     | 5412179/11368252 [00:13<00:09, 606928.69bytes/s]\u001b[A\n",
      "Loading:  48%|████▊     | 5473645/11368252 [00:13<00:10, 579623.39bytes/s]\u001b[A\n",
      "Loading:  49%|████▊     | 5533759/11368252 [00:13<00:09, 585907.70bytes/s]\u001b[A\n",
      "Loading:  49%|████▉     | 5596601/11368252 [00:13<00:09, 598036.55bytes/s]\u001b[A\n",
      "Loading:  50%|████▉     | 5659855/11368252 [00:13<00:09, 607982.18bytes/s]\u001b[A\n",
      "Loading:  50%|█████     | 5721021/11368252 [00:13<00:09, 596048.83bytes/s]\u001b[A\n"
     ]
    },
    {
     "name": "stderr",
     "output_type": "stream",
     "text": [
      "Loading:  51%|█████     | 5780937/11368252 [00:14<00:09, 596893.03bytes/s]\u001b[A\n",
      "Loading:  51%|█████▏    | 5850467/11368252 [00:14<00:08, 623355.17bytes/s]\u001b[A\n",
      "Loading:  52%|█████▏    | 5918839/11368252 [00:14<00:08, 640313.42bytes/s]\u001b[A\n",
      "Loading:  53%|█████▎    | 5983305/11368252 [00:14<00:08, 617976.65bytes/s]\u001b[A\n",
      "Loading:  53%|█████▎    | 6045575/11368252 [00:14<00:08, 598603.12bytes/s]\u001b[A\n",
      "Loading:  54%|█████▍    | 6114683/11368252 [00:14<00:08, 623632.51bytes/s]\u001b[A\n",
      "Loading:  54%|█████▍    | 6177641/11368252 [00:14<00:08, 597371.68bytes/s]\u001b[A\n",
      "Loading:  55%|█████▍    | 6238031/11368252 [00:14<00:10, 509948.93bytes/s]\u001b[A\n",
      "Loading:  55%|█████▌    | 6293523/11368252 [00:14<00:09, 522653.16bytes/s]\u001b[A\n",
      "Loading:  56%|█████▌    | 6359575/11368252 [00:15<00:08, 557556.57bytes/s]\u001b[A\n",
      "Loading:  56%|█████▋    | 6417345/11368252 [00:15<00:09, 508762.87bytes/s]\u001b[A\n",
      "Loading:  57%|█████▋    | 6470459/11368252 [00:15<00:09, 502566.29bytes/s]\u001b[A\n",
      "Loading:  57%|█████▋    | 6522301/11368252 [00:16<00:29, 166263.42bytes/s]\u001b[A\n",
      "Loading:  58%|█████▊    | 6586861/11368252 [00:16<00:22, 213909.23bytes/s]\u001b[A\n",
      "Loading:  59%|█████▊    | 6653287/11368252 [00:16<00:17, 268407.57bytes/s]\u001b[A\n",
      "Loading:  59%|█████▉    | 6716395/11368252 [00:16<00:14, 324322.06bytes/s]\u001b[A\n",
      "Loading:  60%|█████▉    | 6781109/11368252 [00:16<00:12, 381398.83bytes/s]\u001b[A\n",
      "Loading:  60%|██████    | 6839329/11368252 [00:16<00:10, 425047.23bytes/s]\u001b[A\n",
      "Loading:  61%|██████    | 6897481/11368252 [00:16<00:10, 416511.47bytes/s]\u001b[A\n",
      "Loading:  61%|██████    | 6950123/11368252 [00:16<00:10, 420016.82bytes/s]\u001b[A\n",
      "Loading:  62%|██████▏   | 7004155/11368252 [00:16<00:09, 449496.98bytes/s]\u001b[A\n",
      "Loading:  62%|██████▏   | 7055075/11368252 [00:17<00:09, 445820.72bytes/s]\u001b[A\n",
      "Loading:  62%|██████▏   | 7103843/11368252 [00:17<00:09, 433470.48bytes/s]\u001b[A\n",
      "Loading:  63%|██████▎   | 7150197/11368252 [00:17<00:12, 335850.20bytes/s]\u001b[A\n",
      "Loading:  63%|██████▎   | 7194275/11368252 [00:17<00:11, 361678.28bytes/s]\u001b[A\n",
      "Loading:  64%|██████▎   | 7238165/11368252 [00:17<00:10, 381824.86bytes/s]\u001b[A\n",
      "Loading:  64%|██████▍   | 7279723/11368252 [00:17<00:11, 369925.13bytes/s]\u001b[A\n",
      "Loading:  64%|██████▍   | 7319161/11368252 [00:17<00:10, 368389.80bytes/s]\u001b[A\n",
      "Loading:  65%|██████▍   | 7380689/11368252 [00:17<00:09, 418802.78bytes/s]\u001b[A\n",
      "Loading:  66%|██████▌   | 7448135/11368252 [00:18<00:08, 472537.03bytes/s]\u001b[A\n",
      "Loading:  66%|██████▌   | 7514709/11368252 [00:18<00:07, 517599.80bytes/s]\u001b[A\n",
      "Loading:  67%|██████▋   | 7574303/11368252 [00:18<00:07, 538849.86bytes/s]\u001b[A\n",
      "Loading:  67%|██████▋   | 7631667/11368252 [00:18<00:07, 502945.58bytes/s]\u001b[A\n",
      "Loading:  68%|██████▊   | 7693611/11368252 [00:18<00:06, 533013.91bytes/s]\u001b[A\n",
      "Loading:  68%|██████▊   | 7754937/11368252 [00:18<00:06, 554788.05bytes/s]\u001b[A\n",
      "Loading:  69%|██████▊   | 7812419/11368252 [00:18<00:06, 527572.53bytes/s]\u001b[A\n",
      "Loading:  69%|██████▉   | 7866857/11368252 [00:18<00:06, 514142.93bytes/s]\u001b[A\n",
      "Loading:  70%|██████▉   | 7919525/11368252 [00:18<00:06, 506738.53bytes/s]\u001b[A\n",
      "Loading:  70%|███████   | 7971099/11368252 [00:19<00:07, 484688.47bytes/s]\u001b[A\n",
      "Loading:  71%|███████   | 8020401/11368252 [00:19<00:07, 474552.68bytes/s]\u001b[A\n",
      "Loading:  71%|███████   | 8078859/11368252 [00:19<00:06, 502950.33bytes/s]\u001b[A\n",
      "Loading:  72%|███████▏  | 8133053/11368252 [00:19<00:06, 514043.56bytes/s]\u001b[A\n",
      "Loading:  72%|███████▏  | 8196221/11368252 [00:19<00:05, 544456.18bytes/s]\u001b[A\n",
      "Loading:  73%|███████▎  | 8265173/11368252 [00:19<00:05, 581131.55bytes/s]\u001b[A\n",
      "Loading:  73%|███████▎  | 8332111/11368252 [00:19<00:05, 605058.90bytes/s]\u001b[A\n",
      "Loading:  74%|███████▍  | 8396991/11368252 [00:19<00:04, 617543.87bytes/s]\u001b[A\n",
      "Loading:  74%|███████▍  | 8462843/11368252 [00:19<00:04, 629285.66bytes/s]\u001b[A\n",
      "Loading:  75%|███████▌  | 8533535/11368252 [00:19<00:04, 650723.00bytes/s]\u001b[A\n",
      "Loading:  76%|███████▌  | 8602271/11368252 [00:20<00:04, 661291.61bytes/s]\u001b[A\n",
      "Loading:  76%|███████▋  | 8671171/11368252 [00:20<00:04, 669354.90bytes/s]\u001b[A\n",
      "Loading:  77%|███████▋  | 8739821/11368252 [00:20<00:03, 674404.23bytes/s]\u001b[A\n",
      "Loading:  77%|███████▋  | 8809375/11368252 [00:20<00:03, 680600.93bytes/s]\u001b[A\n",
      "Loading:  78%|███████▊  | 8877643/11368252 [00:20<00:03, 676691.76bytes/s]\u001b[A\n",
      "Loading:  79%|███████▊  | 8945463/11368252 [00:20<00:03, 674136.72bytes/s]\u001b[A\n",
      "Loading:  79%|███████▉  | 9012987/11368252 [00:20<00:03, 611171.61bytes/s]\u001b[A\n",
      "Loading:  80%|███████▉  | 9075307/11368252 [00:20<00:04, 557618.49bytes/s]\u001b[A\n",
      "Loading:  80%|████████  | 9134447/11368252 [00:20<00:03, 567338.86bytes/s]\u001b[A\n",
      "Loading:  81%|████████  | 9192449/11368252 [00:21<00:04, 537465.00bytes/s]\u001b[A\n",
      "Loading:  81%|████████▏ | 9259479/11368252 [00:21<00:03, 571436.38bytes/s]\u001b[A\n",
      "Loading:  82%|████████▏ | 9328481/11368252 [00:21<00:03, 602493.32bytes/s]\u001b[A\n",
      "Loading:  83%|████████▎ | 9398567/11368252 [00:21<00:03, 628923.92bytes/s]\u001b[A\n",
      "Loading:  83%|████████▎ | 9462783/11368252 [00:21<00:03, 632158.64bytes/s]\u001b[A\n",
      "Loading:  84%|████████▍ | 9526931/11368252 [00:21<00:03, 573918.74bytes/s]\u001b[A\n",
      "Loading:  84%|████████▍ | 9586005/11368252 [00:21<00:03, 559756.28bytes/s]\u001b[A\n",
      "Loading:  85%|████████▍ | 9646965/11368252 [00:21<00:02, 573815.96bytes/s]\u001b[A\n",
      "Loading:  85%|████████▌ | 9714763/11368252 [00:21<00:02, 601538.73bytes/s]\u001b[A\n",
      "Loading:  86%|████████▌ | 9782409/11368252 [00:21<00:02, 622212.42bytes/s]\u001b[A\n",
      "Loading:  87%|████████▋ | 9845531/11368252 [00:22<00:02, 620757.78bytes/s]\u001b[A\n",
      "Loading:  87%|████████▋ | 9912593/11368252 [00:22<00:02, 634916.87bytes/s]\u001b[A\n",
      "Loading:  88%|████████▊ | 9976609/11368252 [00:22<00:02, 631136.29bytes/s]\u001b[A\n",
      "Loading:  88%|████████▊ | 10044803/11368252 [00:22<00:02, 645564.16bytes/s]\u001b[A\n",
      "Loading:  89%|████████▉ | 10111469/11368252 [00:22<00:01, 651749.74bytes/s]\u001b[A\n",
      "Loading:  90%|████████▉ | 10176897/11368252 [00:22<00:01, 618737.46bytes/s]\u001b[A\n",
      "Loading:  90%|█████████ | 10239297/11368252 [00:22<00:01, 576736.42bytes/s]\u001b[A\n",
      "Loading:  91%|█████████ | 10303515/11368252 [00:22<00:01, 594894.98bytes/s]\u001b[A\n",
      "Loading:  91%|█████████ | 10364697/11368252 [00:22<00:01, 599824.29bytes/s]\u001b[A\n",
      "Loading:  92%|█████████▏| 10425255/11368252 [00:23<00:01, 562005.02bytes/s]\u001b[A\n",
      "Loading:  92%|█████████▏| 10487493/11368252 [00:23<00:01, 578848.95bytes/s]\u001b[A\n",
      "Loading:  93%|█████████▎| 10553607/11368252 [00:23<00:01, 601300.08bytes/s]\u001b[A\n",
      "Loading:  93%|█████████▎| 10621759/11368252 [00:23<00:01, 623305.82bytes/s]\u001b[A\n",
      "Loading:  94%|█████████▍| 10686875/11368252 [00:23<00:01, 631404.84bytes/s]\u001b[A\n",
      "Loading:  95%|█████████▍| 10757091/11368252 [00:23<00:00, 651078.12bytes/s]\u001b[A\n",
      "Loading:  95%|█████████▌| 10822729/11368252 [00:23<00:00, 612488.55bytes/s]\u001b[A\n",
      "Loading:  96%|█████████▌| 10885711/11368252 [00:23<00:00, 617586.73bytes/s]\u001b[A\n",
      "Loading:  96%|█████████▋| 10954974/11368252 [00:23<00:00, 638329.63bytes/s]\u001b[A\n",
      "Loading:  97%|█████████▋| 11019402/11368252 [00:24<00:02, 167466.92bytes/s]\u001b[A\n",
      "Loading:  97%|█████████▋| 11078868/11368252 [00:25<00:01, 213473.13bytes/s]\u001b[A\n",
      "Loading:  98%|█████████▊| 11144396/11368252 [00:25<00:00, 267599.02bytes/s]\u001b[A\n",
      "Loading:  99%|█████████▊| 11212872/11368252 [00:25<00:00, 327442.34bytes/s]\u001b[A\n",
      "Loading:  99%|█████████▉| 11276676/11368252 [00:25<00:00, 383438.44bytes/s]\u001b[A\n",
      "Loading: 100%|█████████▉| 11337220/11368252 [00:25<00:00, 428177.90bytes/s]\u001b[A"
     ]
    }
   ],
   "source": [
    "stemmer = StempelStemmer.polimorf()"
   ]
  },
  {
   "cell_type": "code",
   "execution_count": 760,
   "metadata": {},
   "outputs": [
    {
     "data": {
      "text/plain": [
       "'0.21.3'"
      ]
     },
     "execution_count": 760,
     "metadata": {},
     "output_type": "execute_result"
    }
   ],
   "source": [
    "import sklearn\n",
    "sklearn.__version__"
   ]
  },
  {
   "cell_type": "code",
   "execution_count": 758,
   "metadata": {
    "scrolled": true
   },
   "outputs": [
    {
     "name": "stdout",
     "output_type": "stream",
     "text": [
      "\u001b[33mWARNING: Could not generate requirement for distribution -ip 19.2.3 (/Users/bartek/.pyenv/versions/3.8.0/lib/python3.8/site-packages): Parse error at \"'-ip==19.'\": Expected W:(abcd...)\u001b[0m\n",
      "argcomplete==1.10.0\n",
      "awscli==1.16.309\n",
      "beautifulsoup4==4.8.0\n",
      "botocore==1.13.45\n",
      "chardet==3.0.4\n",
      "Click==7.0\n",
      "colorama==0.4.1\n",
      "cycler==0.10.0\n",
      "docutils==0.15.2\n",
      "docx2txt==0.8\n",
      "EbookLib==0.17.1\n",
      "extract-msg==0.23.1\n",
      "Flask==1.1.1\n",
      "Flask-JWT-Extended==3.24.1\n",
      "IMAPClient==2.1.0\n",
      "itsdangerous==1.1.0\n",
      "Jinja2==2.10.3\n",
      "jmespath==0.9.4\n",
      "kiwisolver==1.1.0\n",
      "lxml==4.4.2\n",
      "MarkupSafe==1.1.1\n",
      "matplotlib==3.1.2\n",
      "morfeusz2==0.4.0\n",
      "nltk==3.4.5\n",
      "numpy==1.17.4\n",
      "olefile==0.46\n",
      "pandas==0.25.3\n",
      "pdfminer.six==20181108\n",
      "Pillow==6.2.1\n",
      "pyasn1==0.4.8\n",
      "pycryptodome==3.9.4\n",
      "PyJWT==1.7.1\n",
      "pyparsing==2.4.5\n",
      "pystempel==1.1.0\n",
      "python-dateutil==2.8.1\n",
      "python-pptx==0.6.18\n",
      "pytz==2019.3\n",
      "PyYAML==5.2\n",
      "rsa==3.4.2\n",
      "s3transfer==0.2.1\n",
      "scipy==1.4.1\n",
      "seaborn==0.9.0\n",
      "six==1.12.0\n",
      "sortedcontainers==2.1.0\n",
      "soupsieve==1.9.5\n",
      "SpeechRecognition==3.8.1\n",
      "textract==1.6.3\n",
      "tqdm==4.40.1\n",
      "tzlocal==1.5.1\n",
      "urllib3==1.25.7\n",
      "Werkzeug==0.16.0\n",
      "wordcloud==1.6.0\n",
      "xlrd==1.2.0\n",
      "XlsxWriter==1.2.6\n"
     ]
    }
   ],
   "source": [
    "!pip freeze"
   ]
  },
  {
   "cell_type": "code",
   "execution_count": 13,
   "metadata": {},
   "outputs": [],
   "source": [
    "s = \"AGH to polska uczelnia znajdująca się w Krakowie.\""
   ]
  },
  {
   "cell_type": "code",
   "execution_count": 9,
   "metadata": {},
   "outputs": [],
   "source": [
    "s = \"w\""
   ]
  },
  {
   "cell_type": "code",
   "execution_count": null,
   "metadata": {},
   "outputs": [],
   "source": [
    "s = \"\""
   ]
  },
  {
   "cell_type": "code",
   "execution_count": 14,
   "metadata": {},
   "outputs": [
    {
     "name": "stdout",
     "output_type": "stream",
     "text": [
      "AGH\n",
      "to\n",
      "polski\n",
      "uczelnia\n",
      "znajdywać\n",
      "się\n",
      "wyspa\n",
      "Krak\n",
      ".\n"
     ]
    }
   ],
   "source": [
    "for token in word_tokenize(s):\n",
    "    print(stemmer.stem(token))"
   ]
  },
  {
   "cell_type": "code",
   "execution_count": 410,
   "metadata": {},
   "outputs": [
    {
     "data": {
      "text/plain": [
       "['AGH', 'przygotowane', '.DS_Store', 'podanie o przepisanie ocen.doc']"
      ]
     },
     "execution_count": 410,
     "metadata": {},
     "output_type": "execute_result"
    }
   ],
   "source": [
    "filenames"
   ]
  },
  {
   "cell_type": "code",
   "execution_count": 33,
   "metadata": {},
   "outputs": [],
   "source": [
    "def save_text(path, filename, text):\n",
    "    filename = filename.split(\".\")[0]\n",
    "    with open(f\"{path}/przygotowane/{filename}\", 'wb') as f:\n",
    "            f.write(text)"
   ]
  },
  {
   "cell_type": "code",
   "execution_count": 34,
   "metadata": {},
   "outputs": [
    {
     "name": "stderr",
     "output_type": "stream",
     "text": [
      "DEBUG:chardet.charsetprober:utf-8  confidence = 0.99\n",
      "DEBUG:chardet.charsetprober:SHIFT_JIS Japanese confidence = 0.01\n",
      "DEBUG:chardet.charsetprober:EUC-JP Japanese confidence = 0.01\n",
      "DEBUG:chardet.charsetprober:GB2312 Chinese confidence = 0.01\n",
      "DEBUG:chardet.charsetprober:EUC-KR Korean confidence = 0.01\n",
      "DEBUG:chardet.charsetprober:CP949 Korean confidence = 0.01\n",
      "DEBUG:chardet.charsetprober:Big5 Chinese confidence = 0.01\n",
      "DEBUG:chardet.charsetprober:EUC-TW Taiwan confidence = 0.01\n",
      "DEBUG:chardet.charsetprober:windows-1251 Russian confidence = 0.01\n",
      "DEBUG:chardet.charsetprober:KOI8-R Russian confidence = 0.01\n",
      "DEBUG:chardet.charsetprober:ISO-8859-5 Russian confidence = 0.0\n",
      "DEBUG:chardet.charsetprober:MacCyrillic Russian confidence = 0.01\n",
      "DEBUG:chardet.charsetprober:IBM866 Russian confidence = 0.01\n",
      "DEBUG:chardet.charsetprober:IBM855 Russian confidence = 0.01\n",
      "DEBUG:chardet.charsetprober:ISO-8859-7 Greek confidence = 0.0\n",
      "DEBUG:chardet.charsetprober:windows-1253 Greek confidence = 0.0\n",
      "DEBUG:chardet.charsetprober:ISO-8859-5 Bulgairan confidence = 0.0\n",
      "DEBUG:chardet.charsetprober:windows-1251 Bulgarian confidence = 0.01\n",
      "DEBUG:chardet.charsetprober:TIS-620 Thai confidence = 0.17991060601808173\n",
      "DEBUG:chardet.charsetprober:ISO-8859-9 Turkish confidence = 0.5026539792342231\n",
      "DEBUG:chardet.charsetprober:windows-1255 Hebrew confidence = 0.0\n",
      "DEBUG:chardet.charsetprober:windows-1255 Hebrew confidence = 0.0\n",
      "DEBUG:chardet.charsetprober:windows-1255 Hebrew confidence = 0.0\n",
      "DEBUG:chardet.charsetprober:utf-8  confidence = 0.99\n",
      "DEBUG:chardet.charsetprober:SHIFT_JIS Japanese confidence = 0.01\n",
      "DEBUG:chardet.charsetprober:EUC-JP Japanese confidence = 0.01\n",
      "DEBUG:chardet.charsetprober:GB2312 Chinese confidence = 0.01\n",
      "DEBUG:chardet.charsetprober:EUC-KR Korean confidence = 0.01\n",
      "DEBUG:chardet.charsetprober:CP949 Korean confidence = 0.01\n",
      "DEBUG:chardet.charsetprober:Big5 Chinese confidence = 0.01\n",
      "DEBUG:chardet.charsetprober:EUC-TW Taiwan confidence = 0.01\n"
     ]
    }
   ],
   "source": [
    "for filename in filenames:\n",
    "    if \".DS\" not in filename and \"przygotowane\" not in filename and \"AGH\" not in filename:\n",
    "        try:\n",
    "            text = textract.process(PATH + \"/\" + filename)\n",
    "            save_text(PATH, filename, text)\n",
    "        except UnicodeDecodeError:\n",
    "            print(f\"{filename}\")"
   ]
  },
  {
   "cell_type": "code",
   "execution_count": 38,
   "metadata": {},
   "outputs": [],
   "source": [
    "def read_file(filename):\n",
    "    text = []\n",
    "    with open(f'src/resources/{filename}', 'r') as f:\n",
    "        text = f.read()\n",
    "    return text"
   ]
  },
  {
   "cell_type": "code",
   "execution_count": 48,
   "metadata": {},
   "outputs": [],
   "source": [
    "stop_words = read_file('stopwords').split('\\n')"
   ]
  },
  {
   "cell_type": "code",
   "execution_count": 35,
   "metadata": {},
   "outputs": [],
   "source": [
    "def prepare_row(filename, processor):\n",
    "    with open(filename, 'r') as f:\n",
    "        row = {}\n",
    "        row['text'] = processor.extract_words(f.read())\n",
    "        fn = filename.split('/')[-1]\n",
    "        row['title'] = fn.split('_')[0]\n",
    "        return row"
   ]
  },
  {
   "cell_type": "code",
   "execution_count": 43,
   "metadata": {
    "collapsed": true
   },
   "outputs": [
    {
     "name": "stderr",
     "output_type": "stream",
     "text": [
      "DEBUG:root:extract_words invoked\n",
      "DEBUG:root:remove_whitespace invoked\n",
      "DEBUG:root:extract_words invoked\n",
      "DEBUG:root:remove_whitespace invoked\n",
      "DEBUG:root:extract_words invoked\n",
      "DEBUG:root:remove_whitespace invoked\n",
      "DEBUG:root:extract_words invoked\n",
      "DEBUG:root:remove_whitespace invoked\n",
      "DEBUG:root:extract_words invoked\n",
      "DEBUG:root:remove_whitespace invoked\n",
      "DEBUG:root:extract_words invoked\n",
      "DEBUG:root:remove_whitespace invoked\n",
      "DEBUG:root:extract_words invoked\n",
      "DEBUG:root:remove_whitespace invoked\n",
      "DEBUG:root:extract_words invoked\n",
      "DEBUG:root:remove_whitespace invoked\n",
      "DEBUG:root:extract_words invoked\n",
      "DEBUG:root:remove_whitespace invoked\n",
      "DEBUG:root:extract_words invoked\n",
      "DEBUG:root:remove_whitespace invoked\n",
      "DEBUG:root:extract_words invoked\n",
      "DEBUG:root:remove_whitespace invoked\n",
      "DEBUG:root:extract_words invoked\n",
      "DEBUG:root:remove_whitespace invoked\n",
      "DEBUG:root:extract_words invoked\n",
      "DEBUG:root:remove_whitespace invoked\n",
      "DEBUG:root:extract_words invoked\n",
      "DEBUG:root:remove_whitespace invoked\n",
      "DEBUG:root:extract_words invoked\n",
      "DEBUG:root:remove_whitespace invoked\n",
      "DEBUG:root:extract_words invoked\n",
      "DEBUG:root:remove_whitespace invoked\n",
      "DEBUG:root:extract_words invoked\n",
      "DEBUG:root:remove_whitespace invoked\n",
      "DEBUG:root:extract_words invoked\n",
      "DEBUG:root:remove_whitespace invoked\n",
      "DEBUG:root:extract_words invoked\n",
      "DEBUG:root:remove_whitespace invoked\n",
      "DEBUG:root:extract_words invoked\n",
      "DEBUG:root:remove_whitespace invoked\n",
      "DEBUG:root:extract_words invoked\n",
      "DEBUG:root:remove_whitespace invoked\n",
      "DEBUG:root:extract_words invoked\n",
      "DEBUG:root:remove_whitespace invoked\n",
      "DEBUG:root:extract_words invoked\n",
      "DEBUG:root:remove_whitespace invoked\n",
      "DEBUG:root:extract_words invoked\n",
      "DEBUG:root:remove_whitespace invoked\n",
      "DEBUG:root:extract_words invoked\n",
      "DEBUG:root:remove_whitespace invoked\n",
      "DEBUG:root:extract_words invoked\n",
      "DEBUG:root:remove_whitespace invoked\n",
      "DEBUG:root:extract_words invoked\n",
      "DEBUG:root:remove_whitespace invoked\n",
      "DEBUG:root:extract_words invoked\n",
      "DEBUG:root:remove_whitespace invoked\n",
      "DEBUG:root:extract_words invoked\n",
      "DEBUG:root:remove_whitespace invoked\n",
      "DEBUG:root:extract_words invoked\n",
      "DEBUG:root:remove_whitespace invoked\n",
      "DEBUG:root:extract_words invoked\n",
      "DEBUG:root:remove_whitespace invoked\n",
      "DEBUG:root:extract_words invoked\n",
      "DEBUG:root:remove_whitespace invoked\n",
      "DEBUG:root:extract_words invoked\n",
      "DEBUG:root:remove_whitespace invoked\n",
      "DEBUG:root:extract_words invoked\n",
      "DEBUG:root:remove_whitespace invoked\n",
      "DEBUG:root:extract_words invoked\n",
      "DEBUG:root:remove_whitespace invoked\n",
      "DEBUG:root:extract_words invoked\n",
      "DEBUG:root:remove_whitespace invoked\n",
      "DEBUG:root:extract_words invoked\n",
      "DEBUG:root:remove_whitespace invoked\n",
      "DEBUG:root:extract_words invoked\n",
      "DEBUG:root:remove_whitespace invoked\n",
      "DEBUG:root:extract_words invoked\n",
      "DEBUG:root:remove_whitespace invoked\n",
      "DEBUG:root:extract_words invoked\n",
      "DEBUG:root:remove_whitespace invoked\n",
      "DEBUG:root:extract_words invoked\n",
      "DEBUG:root:remove_whitespace invoked\n",
      "DEBUG:root:extract_words invoked\n",
      "DEBUG:root:remove_whitespace invoked\n",
      "DEBUG:root:extract_words invoked\n",
      "DEBUG:root:remove_whitespace invoked\n",
      "DEBUG:root:extract_words invoked\n",
      "DEBUG:root:remove_whitespace invoked\n",
      "DEBUG:root:extract_words invoked\n",
      "DEBUG:root:remove_whitespace invoked\n",
      "DEBUG:root:extract_words invoked\n",
      "DEBUG:root:remove_whitespace invoked\n",
      "DEBUG:root:extract_words invoked\n",
      "DEBUG:root:remove_whitespace invoked\n",
      "DEBUG:root:extract_words invoked\n",
      "DEBUG:root:remove_whitespace invoked\n",
      "DEBUG:root:extract_words invoked\n",
      "DEBUG:root:remove_whitespace invoked\n",
      "DEBUG:root:extract_words invoked\n",
      "DEBUG:root:remove_whitespace invoked\n",
      "DEBUG:root:extract_words invoked\n",
      "DEBUG:root:remove_whitespace invoked\n",
      "DEBUG:root:extract_words invoked\n",
      "DEBUG:root:remove_whitespace invoked\n",
      "DEBUG:root:extract_words invoked\n",
      "DEBUG:root:remove_whitespace invoked\n",
      "DEBUG:root:extract_words invoked\n",
      "DEBUG:root:remove_whitespace invoked\n",
      "DEBUG:root:extract_words invoked\n",
      "DEBUG:root:remove_whitespace invoked\n",
      "DEBUG:root:extract_words invoked\n",
      "DEBUG:root:remove_whitespace invoked\n",
      "DEBUG:root:extract_words invoked\n",
      "DEBUG:root:remove_whitespace invoked\n",
      "DEBUG:root:extract_words invoked\n",
      "DEBUG:root:remove_whitespace invoked\n",
      "DEBUG:root:extract_words invoked\n",
      "DEBUG:root:remove_whitespace invoked\n",
      "DEBUG:root:extract_words invoked\n",
      "DEBUG:root:remove_whitespace invoked\n",
      "DEBUG:root:extract_words invoked\n",
      "DEBUG:root:remove_whitespace invoked\n",
      "DEBUG:root:extract_words invoked\n",
      "DEBUG:root:remove_whitespace invoked\n",
      "DEBUG:root:extract_words invoked\n",
      "DEBUG:root:remove_whitespace invoked\n",
      "DEBUG:root:extract_words invoked\n",
      "DEBUG:root:remove_whitespace invoked\n",
      "DEBUG:root:extract_words invoked\n",
      "DEBUG:root:remove_whitespace invoked\n",
      "DEBUG:root:extract_words invoked\n",
      "DEBUG:root:remove_whitespace invoked\n",
      "DEBUG:root:extract_words invoked\n",
      "DEBUG:root:remove_whitespace invoked\n",
      "DEBUG:root:extract_words invoked\n",
      "DEBUG:root:remove_whitespace invoked\n",
      "DEBUG:root:extract_words invoked\n",
      "DEBUG:root:remove_whitespace invoked\n",
      "DEBUG:root:extract_words invoked\n",
      "DEBUG:root:remove_whitespace invoked\n",
      "DEBUG:root:extract_words invoked\n",
      "DEBUG:root:remove_whitespace invoked\n",
      "DEBUG:root:extract_words invoked\n",
      "DEBUG:root:remove_whitespace invoked\n",
      "DEBUG:root:extract_words invoked\n",
      "DEBUG:root:remove_whitespace invoked\n",
      "DEBUG:root:extract_words invoked\n",
      "DEBUG:root:remove_whitespace invoked\n",
      "DEBUG:root:extract_words invoked\n",
      "DEBUG:root:remove_whitespace invoked\n",
      "DEBUG:root:extract_words invoked\n",
      "DEBUG:root:remove_whitespace invoked\n",
      "DEBUG:root:extract_words invoked\n",
      "DEBUG:root:remove_whitespace invoked\n",
      "DEBUG:root:extract_words invoked\n",
      "DEBUG:root:remove_whitespace invoked\n",
      "DEBUG:root:extract_words invoked\n",
      "DEBUG:root:remove_whitespace invoked\n",
      "DEBUG:root:extract_words invoked\n",
      "DEBUG:root:remove_whitespace invoked\n",
      "DEBUG:root:extract_words invoked\n",
      "DEBUG:root:remove_whitespace invoked\n",
      "DEBUG:root:extract_words invoked\n",
      "DEBUG:root:remove_whitespace invoked\n",
      "DEBUG:root:extract_words invoked\n",
      "DEBUG:root:remove_whitespace invoked\n",
      "DEBUG:root:extract_words invoked\n",
      "DEBUG:root:remove_whitespace invoked\n",
      "DEBUG:root:extract_words invoked\n",
      "DEBUG:root:remove_whitespace invoked\n",
      "DEBUG:root:extract_words invoked\n",
      "DEBUG:root:remove_whitespace invoked\n",
      "DEBUG:root:extract_words invoked\n",
      "DEBUG:root:remove_whitespace invoked\n",
      "DEBUG:root:extract_words invoked\n",
      "DEBUG:root:remove_whitespace invoked\n",
      "DEBUG:root:extract_words invoked\n",
      "DEBUG:root:remove_whitespace invoked\n",
      "DEBUG:root:extract_words invoked\n",
      "DEBUG:root:remove_whitespace invoked\n",
      "DEBUG:root:extract_words invoked\n",
      "DEBUG:root:remove_whitespace invoked\n",
      "DEBUG:root:extract_words invoked\n",
      "DEBUG:root:remove_whitespace invoked\n",
      "DEBUG:root:extract_words invoked\n",
      "DEBUG:root:remove_whitespace invoked\n",
      "DEBUG:root:extract_words invoked\n",
      "DEBUG:root:remove_whitespace invoked\n",
      "DEBUG:root:extract_words invoked\n",
      "DEBUG:root:remove_whitespace invoked\n",
      "DEBUG:root:extract_words invoked\n",
      "DEBUG:root:remove_whitespace invoked\n",
      "DEBUG:root:extract_words invoked\n",
      "DEBUG:root:remove_whitespace invoked\n",
      "DEBUG:root:extract_words invoked\n",
      "DEBUG:root:remove_whitespace invoked\n",
      "DEBUG:root:extract_words invoked\n",
      "DEBUG:root:remove_whitespace invoked\n",
      "DEBUG:root:extract_words invoked\n",
      "DEBUG:root:remove_whitespace invoked\n",
      "DEBUG:root:extract_words invoked\n",
      "DEBUG:root:remove_whitespace invoked\n",
      "DEBUG:root:extract_words invoked\n",
      "DEBUG:root:remove_whitespace invoked\n",
      "DEBUG:root:extract_words invoked\n",
      "DEBUG:root:remove_whitespace invoked\n",
      "DEBUG:root:extract_words invoked\n",
      "DEBUG:root:remove_whitespace invoked\n",
      "DEBUG:root:extract_words invoked\n",
      "DEBUG:root:remove_whitespace invoked\n",
      "DEBUG:root:extract_words invoked\n",
      "DEBUG:root:remove_whitespace invoked\n",
      "DEBUG:root:extract_words invoked\n",
      "DEBUG:root:remove_whitespace invoked\n",
      "DEBUG:root:extract_words invoked\n",
      "DEBUG:root:remove_whitespace invoked\n",
      "DEBUG:root:extract_words invoked\n",
      "DEBUG:root:remove_whitespace invoked\n",
      "DEBUG:root:extract_words invoked\n",
      "DEBUG:root:remove_whitespace invoked\n",
      "DEBUG:root:extract_words invoked\n",
      "DEBUG:root:remove_whitespace invoked\n",
      "DEBUG:root:extract_words invoked\n",
      "DEBUG:root:remove_whitespace invoked\n",
      "DEBUG:root:extract_words invoked\n",
      "DEBUG:root:remove_whitespace invoked\n",
      "DEBUG:root:extract_words invoked\n",
      "DEBUG:root:remove_whitespace invoked\n",
      "DEBUG:root:extract_words invoked\n",
      "DEBUG:root:remove_whitespace invoked\n",
      "DEBUG:root:extract_words invoked\n",
      "DEBUG:root:remove_whitespace invoked\n",
      "DEBUG:root:extract_words invoked\n",
      "DEBUG:root:remove_whitespace invoked\n",
      "DEBUG:root:extract_words invoked\n"
     ]
    },
    {
     "name": "stderr",
     "output_type": "stream",
     "text": [
      "DEBUG:root:remove_whitespace invoked\n",
      "DEBUG:root:extract_words invoked\n",
      "DEBUG:root:remove_whitespace invoked\n",
      "DEBUG:root:extract_words invoked\n",
      "DEBUG:root:remove_whitespace invoked\n",
      "DEBUG:root:extract_words invoked\n",
      "DEBUG:root:remove_whitespace invoked\n",
      "DEBUG:root:extract_words invoked\n",
      "DEBUG:root:remove_whitespace invoked\n",
      "DEBUG:root:extract_words invoked\n",
      "DEBUG:root:remove_whitespace invoked\n",
      "DEBUG:root:extract_words invoked\n",
      "DEBUG:root:remove_whitespace invoked\n",
      "DEBUG:root:extract_words invoked\n",
      "DEBUG:root:remove_whitespace invoked\n",
      "DEBUG:root:extract_words invoked\n",
      "DEBUG:root:remove_whitespace invoked\n",
      "DEBUG:root:extract_words invoked\n",
      "DEBUG:root:remove_whitespace invoked\n",
      "DEBUG:root:extract_words invoked\n",
      "DEBUG:root:remove_whitespace invoked\n",
      "DEBUG:root:extract_words invoked\n",
      "DEBUG:root:remove_whitespace invoked\n",
      "DEBUG:root:extract_words invoked\n",
      "DEBUG:root:remove_whitespace invoked\n",
      "DEBUG:root:extract_words invoked\n",
      "DEBUG:root:remove_whitespace invoked\n",
      "DEBUG:root:extract_words invoked\n",
      "DEBUG:root:remove_whitespace invoked\n",
      "DEBUG:root:extract_words invoked\n",
      "DEBUG:root:remove_whitespace invoked\n",
      "DEBUG:root:extract_words invoked\n",
      "DEBUG:root:remove_whitespace invoked\n",
      "DEBUG:root:extract_words invoked\n",
      "DEBUG:root:remove_whitespace invoked\n",
      "DEBUG:root:extract_words invoked\n",
      "DEBUG:root:remove_whitespace invoked\n",
      "DEBUG:root:extract_words invoked\n",
      "DEBUG:root:remove_whitespace invoked\n",
      "DEBUG:root:extract_words invoked\n",
      "DEBUG:root:remove_whitespace invoked\n",
      "DEBUG:root:extract_words invoked\n",
      "DEBUG:root:remove_whitespace invoked\n",
      "DEBUG:root:extract_words invoked\n",
      "DEBUG:root:remove_whitespace invoked\n",
      "DEBUG:root:extract_words invoked\n",
      "DEBUG:root:remove_whitespace invoked\n",
      "DEBUG:root:extract_words invoked\n",
      "DEBUG:root:remove_whitespace invoked\n",
      "DEBUG:root:extract_words invoked\n",
      "DEBUG:root:remove_whitespace invoked\n",
      "DEBUG:root:extract_words invoked\n",
      "DEBUG:root:remove_whitespace invoked\n",
      "DEBUG:root:extract_words invoked\n",
      "DEBUG:root:remove_whitespace invoked\n",
      "DEBUG:root:extract_words invoked\n",
      "DEBUG:root:remove_whitespace invoked\n",
      "DEBUG:root:extract_words invoked\n",
      "DEBUG:root:remove_whitespace invoked\n",
      "DEBUG:root:extract_words invoked\n",
      "DEBUG:root:remove_whitespace invoked\n",
      "DEBUG:root:extract_words invoked\n",
      "DEBUG:root:remove_whitespace invoked\n",
      "DEBUG:root:extract_words invoked\n",
      "DEBUG:root:remove_whitespace invoked\n",
      "DEBUG:root:extract_words invoked\n",
      "DEBUG:root:remove_whitespace invoked\n",
      "DEBUG:root:extract_words invoked\n",
      "DEBUG:root:remove_whitespace invoked\n",
      "DEBUG:root:extract_words invoked\n",
      "DEBUG:root:remove_whitespace invoked\n",
      "DEBUG:root:extract_words invoked\n",
      "DEBUG:root:remove_whitespace invoked\n",
      "DEBUG:root:extract_words invoked\n",
      "DEBUG:root:remove_whitespace invoked\n",
      "DEBUG:root:extract_words invoked\n",
      "DEBUG:root:remove_whitespace invoked\n",
      "DEBUG:root:extract_words invoked\n",
      "DEBUG:root:remove_whitespace invoked\n",
      "DEBUG:root:extract_words invoked\n",
      "DEBUG:root:remove_whitespace invoked\n",
      "DEBUG:root:extract_words invoked\n",
      "DEBUG:root:remove_whitespace invoked\n",
      "DEBUG:root:extract_words invoked\n",
      "DEBUG:root:remove_whitespace invoked\n",
      "DEBUG:root:extract_words invoked\n",
      "DEBUG:root:remove_whitespace invoked\n",
      "DEBUG:root:extract_words invoked\n",
      "DEBUG:root:remove_whitespace invoked\n",
      "DEBUG:root:extract_words invoked\n",
      "DEBUG:root:remove_whitespace invoked\n",
      "DEBUG:root:extract_words invoked\n",
      "DEBUG:root:remove_whitespace invoked\n",
      "DEBUG:root:extract_words invoked\n",
      "DEBUG:root:remove_whitespace invoked\n",
      "DEBUG:root:extract_words invoked\n",
      "DEBUG:root:remove_whitespace invoked\n",
      "DEBUG:root:extract_words invoked\n",
      "DEBUG:root:remove_whitespace invoked\n",
      "DEBUG:root:extract_words invoked\n",
      "DEBUG:root:remove_whitespace invoked\n",
      "DEBUG:root:extract_words invoked\n",
      "DEBUG:root:remove_whitespace invoked\n",
      "DEBUG:root:extract_words invoked\n",
      "DEBUG:root:remove_whitespace invoked\n",
      "DEBUG:root:extract_words invoked\n",
      "DEBUG:root:remove_whitespace invoked\n",
      "DEBUG:root:extract_words invoked\n",
      "DEBUG:root:remove_whitespace invoked\n",
      "DEBUG:root:extract_words invoked\n",
      "DEBUG:root:remove_whitespace invoked\n",
      "DEBUG:root:extract_words invoked\n",
      "DEBUG:root:remove_whitespace invoked\n",
      "DEBUG:root:extract_words invoked\n",
      "DEBUG:root:remove_whitespace invoked\n",
      "DEBUG:root:extract_words invoked\n",
      "DEBUG:root:remove_whitespace invoked\n",
      "DEBUG:root:extract_words invoked\n",
      "DEBUG:root:remove_whitespace invoked\n",
      "DEBUG:root:extract_words invoked\n",
      "DEBUG:root:remove_whitespace invoked\n",
      "DEBUG:root:extract_words invoked\n",
      "DEBUG:root:remove_whitespace invoked\n",
      "DEBUG:root:extract_words invoked\n",
      "DEBUG:root:remove_whitespace invoked\n",
      "DEBUG:root:extract_words invoked\n",
      "DEBUG:root:remove_whitespace invoked\n",
      "DEBUG:root:extract_words invoked\n",
      "DEBUG:root:remove_whitespace invoked\n",
      "DEBUG:root:extract_words invoked\n",
      "DEBUG:root:remove_whitespace invoked\n",
      "DEBUG:root:extract_words invoked\n",
      "DEBUG:root:remove_whitespace invoked\n",
      "DEBUG:root:extract_words invoked\n",
      "DEBUG:root:remove_whitespace invoked\n",
      "DEBUG:root:extract_words invoked\n",
      "DEBUG:root:remove_whitespace invoked\n",
      "DEBUG:root:extract_words invoked\n",
      "DEBUG:root:remove_whitespace invoked\n",
      "DEBUG:root:extract_words invoked\n",
      "DEBUG:root:remove_whitespace invoked\n",
      "DEBUG:root:extract_words invoked\n",
      "DEBUG:root:remove_whitespace invoked\n",
      "DEBUG:root:extract_words invoked\n",
      "DEBUG:root:remove_whitespace invoked\n",
      "DEBUG:root:extract_words invoked\n",
      "DEBUG:root:remove_whitespace invoked\n",
      "DEBUG:root:extract_words invoked\n",
      "DEBUG:root:remove_whitespace invoked\n",
      "DEBUG:root:extract_words invoked\n",
      "DEBUG:root:remove_whitespace invoked\n",
      "DEBUG:root:extract_words invoked\n",
      "DEBUG:root:remove_whitespace invoked\n",
      "DEBUG:root:extract_words invoked\n",
      "DEBUG:root:remove_whitespace invoked\n",
      "DEBUG:root:extract_words invoked\n",
      "DEBUG:root:remove_whitespace invoked\n",
      "DEBUG:root:extract_words invoked\n",
      "DEBUG:root:remove_whitespace invoked\n",
      "DEBUG:root:extract_words invoked\n",
      "DEBUG:root:remove_whitespace invoked\n",
      "DEBUG:root:extract_words invoked\n",
      "DEBUG:root:remove_whitespace invoked\n",
      "DEBUG:root:extract_words invoked\n",
      "DEBUG:root:remove_whitespace invoked\n",
      "DEBUG:root:extract_words invoked\n",
      "DEBUG:root:remove_whitespace invoked\n",
      "DEBUG:root:extract_words invoked\n",
      "DEBUG:root:remove_whitespace invoked\n",
      "DEBUG:root:extract_words invoked\n",
      "DEBUG:root:remove_whitespace invoked\n",
      "DEBUG:root:extract_words invoked\n",
      "DEBUG:root:remove_whitespace invoked\n",
      "DEBUG:root:extract_words invoked\n",
      "DEBUG:root:remove_whitespace invoked\n",
      "DEBUG:root:extract_words invoked\n",
      "DEBUG:root:remove_whitespace invoked\n",
      "DEBUG:root:extract_words invoked\n",
      "DEBUG:root:remove_whitespace invoked\n",
      "DEBUG:root:extract_words invoked\n",
      "DEBUG:root:remove_whitespace invoked\n",
      "DEBUG:root:extract_words invoked\n",
      "DEBUG:root:remove_whitespace invoked\n",
      "DEBUG:root:extract_words invoked\n",
      "DEBUG:root:remove_whitespace invoked\n",
      "DEBUG:root:extract_words invoked\n",
      "DEBUG:root:remove_whitespace invoked\n",
      "DEBUG:root:extract_words invoked\n",
      "DEBUG:root:remove_whitespace invoked\n",
      "DEBUG:root:extract_words invoked\n",
      "DEBUG:root:remove_whitespace invoked\n",
      "DEBUG:root:extract_words invoked\n",
      "DEBUG:root:remove_whitespace invoked\n",
      "DEBUG:root:extract_words invoked\n",
      "DEBUG:root:remove_whitespace invoked\n",
      "DEBUG:root:extract_words invoked\n",
      "DEBUG:root:remove_whitespace invoked\n",
      "DEBUG:root:extract_words invoked\n",
      "DEBUG:root:remove_whitespace invoked\n",
      "DEBUG:root:extract_words invoked\n",
      "DEBUG:root:remove_whitespace invoked\n"
     ]
    }
   ],
   "source": [
    "dataset = os.listdir(DATASET_PATH)\n",
    "processor = BasicProcessor()\n",
    "data = []\n",
    "for datafile in dataset:\n",
    "    if datafile == '.DS_Store':\n",
    "        continue\n",
    "    data.append(prepare_row(DATASET_PATH + '/' + datafile, processor))"
   ]
  },
  {
   "cell_type": "code",
   "execution_count": 44,
   "metadata": {},
   "outputs": [],
   "source": [
    "corpus = pd.DataFrame(data)"
   ]
  },
  {
   "cell_type": "code",
   "execution_count": 45,
   "metadata": {
    "collapsed": true
   },
   "outputs": [
    {
     "data": {
      "text/html": [
       "<div>\n",
       "<style scoped>\n",
       "    .dataframe tbody tr th:only-of-type {\n",
       "        vertical-align: middle;\n",
       "    }\n",
       "\n",
       "    .dataframe tbody tr th {\n",
       "        vertical-align: top;\n",
       "    }\n",
       "\n",
       "    .dataframe thead th {\n",
       "        text-align: right;\n",
       "    }\n",
       "</style>\n",
       "<table border=\"1\" class=\"dataframe\">\n",
       "  <thead>\n",
       "    <tr style=\"text-align: right;\">\n",
       "      <th></th>\n",
       "      <th>text</th>\n",
       "      <th>title</th>\n",
       "    </tr>\n",
       "  </thead>\n",
       "  <tbody>\n",
       "    <tr>\n",
       "      <th>0</th>\n",
       "      <td>[, imię, nazwisko, opole, dnia, , numer, album...</td>\n",
       "      <td>WARUN</td>\n",
       "    </tr>\n",
       "    <tr>\n",
       "      <th>1</th>\n",
       "      <td>[wydział, zarządzania, i, komunikacji, społecz...</td>\n",
       "      <td>IPS</td>\n",
       "    </tr>\n",
       "    <tr>\n",
       "      <th>2</th>\n",
       "      <td>[, wydział, biologii, uniwersytetu, szczecińsk...</td>\n",
       "      <td>IPS</td>\n",
       "    </tr>\n",
       "    <tr>\n",
       "      <th>3</th>\n",
       "      <td>[załącznik, nr, , do, zarządzenia, nr, dkfłpik...</td>\n",
       "      <td>WARUN</td>\n",
       "    </tr>\n",
       "    <tr>\n",
       "      <th>4</th>\n",
       "      <td>[, , włocławek, dnia, , imię, i, nazwisko, , u...</td>\n",
       "      <td>IPS</td>\n",
       "    </tr>\n",
       "    <tr>\n",
       "      <th>...</th>\n",
       "      <td>...</td>\n",
       "      <td>...</td>\n",
       "    </tr>\n",
       "    <tr>\n",
       "      <th>213</th>\n",
       "      <td>[, , włocławek, dnia, , imię, i, nazwisko, , u...</td>\n",
       "      <td>REAKT</td>\n",
       "    </tr>\n",
       "    <tr>\n",
       "      <th>214</th>\n",
       "      <td>[, dn, , , imię, i, nazwisko, miejscowość, ps,...</td>\n",
       "      <td>POWTRZ</td>\n",
       "    </tr>\n",
       "    <tr>\n",
       "      <th>215</th>\n",
       "      <td>[, lublin, dnia, , , , imię, i, nazwisko, stud...</td>\n",
       "      <td>POWTRZ</td>\n",
       "    </tr>\n",
       "    <tr>\n",
       "      <th>216</th>\n",
       "      <td>[, załącznik, nr, , do, zarządzenia, nr, xv, r...</td>\n",
       "      <td>REAKT</td>\n",
       "    </tr>\n",
       "    <tr>\n",
       "      <th>217</th>\n",
       "      <td>[, częstochowa, dn, , nazwisko, i, , , imię, ,...</td>\n",
       "      <td>POWTRZ</td>\n",
       "    </tr>\n",
       "  </tbody>\n",
       "</table>\n",
       "<p>218 rows × 2 columns</p>\n",
       "</div>"
      ],
      "text/plain": [
       "                                                  text   title\n",
       "0    [, imię, nazwisko, opole, dnia, , numer, album...   WARUN\n",
       "1    [wydział, zarządzania, i, komunikacji, społecz...     IPS\n",
       "2    [, wydział, biologii, uniwersytetu, szczecińsk...     IPS\n",
       "3    [załącznik, nr, , do, zarządzenia, nr, dkfłpik...   WARUN\n",
       "4    [, , włocławek, dnia, , imię, i, nazwisko, , u...     IPS\n",
       "..                                                 ...     ...\n",
       "213  [, , włocławek, dnia, , imię, i, nazwisko, , u...   REAKT\n",
       "214  [, dn, , , imię, i, nazwisko, miejscowość, ps,...  POWTRZ\n",
       "215  [, lublin, dnia, , , , imię, i, nazwisko, stud...  POWTRZ\n",
       "216  [, załącznik, nr, , do, zarządzenia, nr, xv, r...   REAKT\n",
       "217  [, częstochowa, dn, , nazwisko, i, , , imię, ,...  POWTRZ\n",
       "\n",
       "[218 rows x 2 columns]"
      ]
     },
     "execution_count": 45,
     "metadata": {},
     "output_type": "execute_result"
    }
   ],
   "source": [
    "corpus"
   ]
  },
  {
   "cell_type": "code",
   "execution_count": 42,
   "metadata": {},
   "outputs": [
    {
     "data": {
      "text/html": [
       "<div>\n",
       "<style scoped>\n",
       "    .dataframe tbody tr th:only-of-type {\n",
       "        vertical-align: middle;\n",
       "    }\n",
       "\n",
       "    .dataframe tbody tr th {\n",
       "        vertical-align: top;\n",
       "    }\n",
       "\n",
       "    .dataframe thead th {\n",
       "        text-align: right;\n",
       "    }\n",
       "</style>\n",
       "<table border=\"1\" class=\"dataframe\">\n",
       "  <thead>\n",
       "    <tr style=\"text-align: right;\">\n",
       "      <th></th>\n",
       "      <th>text</th>\n",
       "      <th>title</th>\n",
       "    </tr>\n",
       "  </thead>\n",
       "  <tbody>\n",
       "    <tr>\n",
       "      <th>count</th>\n",
       "      <td>220</td>\n",
       "      <td>220</td>\n",
       "    </tr>\n",
       "    <tr>\n",
       "      <th>unique</th>\n",
       "      <td>214</td>\n",
       "      <td>11</td>\n",
       "    </tr>\n",
       "    <tr>\n",
       "      <th>top</th>\n",
       "      <td>[, , warszawa, dnia, imię, i, nazwisko, , ulic...</td>\n",
       "      <td>POWTRZ</td>\n",
       "    </tr>\n",
       "    <tr>\n",
       "      <th>freq</th>\n",
       "      <td>2</td>\n",
       "      <td>41</td>\n",
       "    </tr>\n",
       "  </tbody>\n",
       "</table>\n",
       "</div>"
      ],
      "text/plain": [
       "                                                     text   title\n",
       "count                                                 220     220\n",
       "unique                                                214      11\n",
       "top     [, , warszawa, dnia, imię, i, nazwisko, , ulic...  POWTRZ\n",
       "freq                                                    2      41"
      ]
     },
     "execution_count": 42,
     "metadata": {},
     "output_type": "execute_result"
    }
   ],
   "source": []
  },
  {
   "cell_type": "code",
   "execution_count": 14,
   "metadata": {
    "scrolled": false
   },
   "outputs": [
    {
     "data": {
      "text/plain": [
       "pandas.core.series.Series"
      ]
     },
     "execution_count": 14,
     "metadata": {},
     "output_type": "execute_result"
    }
   ],
   "source": [
    "type(corpus['text'])"
   ]
  },
  {
   "cell_type": "code",
   "execution_count": 46,
   "metadata": {},
   "outputs": [],
   "source": [
    "def prepare_dataframes(dataframes, stop_words, stemmer):\n",
    "    for index, row in dataframes.iterrows():\n",
    "        row['text'] = [entry.lower() for entry in row['text'] if entry != '']\n",
    "    \n",
    "    for index, entry in enumerate(dataframes['text']):\n",
    "        final_words = []\n",
    "        for word in entry:\n",
    "            if word not in stop_words:\n",
    "                final_words.append(stemmer.stem(word))\n",
    "        dataframes.loc[index, 'text_final'] = str(final_words)\n",
    "    return dataframes\n",
    "        "
   ]
  },
  {
   "cell_type": "code",
   "execution_count": 157,
   "metadata": {
    "scrolled": true
   },
   "outputs": [],
   "source": [
    "corpus = prepare_dataframes(corpus, stop_words, stemmer)"
   ]
  },
  {
   "cell_type": "code",
   "execution_count": 180,
   "metadata": {},
   "outputs": [],
   "source": [
    "train_X, test_X, train_Y, test_Y = model_selection.train_test_split(corpus['text_final'], corpus['title'], test_size=0.25)"
   ]
  },
  {
   "cell_type": "code",
   "execution_count": 183,
   "metadata": {},
   "outputs": [],
   "source": [
    "encoder = LabelEncoder()\n",
    "train_Y = encoder.fit_transform(train_Y)\n",
    "test_Y = encoder.fit_transform(test_Y)"
   ]
  },
  {
   "cell_type": "code",
   "execution_count": 184,
   "metadata": {},
   "outputs": [],
   "source": [
    "tfidf = TfidfVectorizer(max_features=5000)\n",
    "tfidf.fit(corpus['text_final'])\n",
    "\n",
    "train_X_tfidf = tfidf.transform(train_X)\n",
    "test_X_tfidf = tfidf.transform(test_X)\n"
   ]
  },
  {
   "cell_type": "code",
   "execution_count": 134,
   "metadata": {},
   "outputs": [],
   "source": [
    "from sklearn.feature_extraction.text import CountVectorizer"
   ]
  },
  {
   "cell_type": "code",
   "execution_count": 135,
   "metadata": {},
   "outputs": [],
   "source": [
    "cv=CountVectorizer(max_df=0.85,stop_words=stop_words)\n",
    "word_count_vector=cv.fit_transform(corpus['text_final'])"
   ]
  },
  {
   "cell_type": "code",
   "execution_count": 136,
   "metadata": {},
   "outputs": [],
   "source": [
    "from sklearn.feature_extraction.text import TfidfTransformer"
   ]
  },
  {
   "cell_type": "code",
   "execution_count": 137,
   "metadata": {},
   "outputs": [],
   "source": [
    "tfidf_transformer = TfidfTransformer(smooth_idf=True,use_idf=True)\n"
   ]
  },
  {
   "cell_type": "code",
   "execution_count": 138,
   "metadata": {},
   "outputs": [],
   "source": [
    "tf_idf_vector = tfidf_transformer.fit(word_count_vector)"
   ]
  },
  {
   "cell_type": "code",
   "execution_count": 139,
   "metadata": {},
   "outputs": [],
   "source": [
    "def sort_coo(coo_matrix):\n",
    "    tuples = zip(coo_matrix.col, coo_matrix.data)\n",
    "    return sorted(tuples, key=lambda x: (x[1], x[0]), reverse=True)\n",
    " \n",
    "def extract_topn_from_vector(feature_names, sorted_items, topn=10):\n",
    "    \"\"\"get the feature names and tf-idf score of top n items\"\"\"\n",
    "    \n",
    "    #use only topn items from vector\n",
    "    sorted_items = sorted_items[:topn]\n",
    " \n",
    "    score_vals = []\n",
    "    feature_vals = []\n",
    "    \n",
    "    # word index and corresponding tf-idf score\n",
    "    for idx, score in sorted_items:\n",
    "        \n",
    "        #keep track of feature name and its corresponding score\n",
    "        score_vals.append(round(score, 3))\n",
    "        feature_vals.append(feature_names[idx])\n",
    " \n",
    "    #create a tuples of feature,score\n",
    "    #results = zip(feature_vals,score_vals)\n",
    "    results= {}\n",
    "    for idx in range(len(feature_vals)):\n",
    "        results[feature_vals[idx]]=score_vals[idx]\n",
    "    \n",
    "    return results"
   ]
  },
  {
   "cell_type": "code",
   "execution_count": 140,
   "metadata": {},
   "outputs": [],
   "source": [
    "def extract_keywords(filename, processor, cv, tfidf_transformer):\n",
    "    sample = prepare_row(DATASET_PATH + '/' + filename, processor)\n",
    "    corpus2 = pd.DataFrame([sample])\n",
    "    df_2 = prepare_dataframes(corpus2, stop_words, stemmer)\n",
    "    test_vec = cv.transform(corpus2['text_final'])\n",
    "    tf_idf_vector=tfidf_transformer.transform(test_vec)\n",
    "    feature_names=cv.get_feature_names()\n",
    "    sorted_items=sort_coo(tf_idf_vector.tocoo())\n",
    "    keywords=extract_topn_from_vector(feature_names,sorted_items,10)\n",
    "    print(\"-- Wniosek o przepisanie oceny - AGH Wydział Geologii i Geoinżynierii --\")\n",
    "    for k in keywords:\n",
    "        print(k,keywords[k])"
   ]
  },
  {
   "cell_type": "code",
   "execution_count": 519,
   "metadata": {
    "scrolled": false
   },
   "outputs": [
    {
     "name": "stderr",
     "output_type": "stream",
     "text": [
      "DEBUG:root:extract_words invoked\n",
      "DEBUG:root:remove_whitespace invoked\n"
     ]
    },
    {
     "name": "stdout",
     "output_type": "stream",
     "text": [
      "-- Wniosek o przepisanie oceny - AGH Wydział Geologii i Geoinżynierii --\n",
      "ocena 0.366\n",
      "górnictwo 0.345\n",
      "przepisać 0.341\n",
      "geoinżynieria 0.321\n",
      "bieżeć 0.279\n",
      "przedmiot 0.27\n",
      "indeks 0.209\n",
      "przedmioprowadzić 0.173\n",
      "poprzedno 0.173\n",
      "poprzednbieżącyc 0.173\n"
     ]
    }
   ],
   "source": [
    "extract_keywords('PRZEP_4', processor, cv, tfidf_transformer)"
   ]
  },
  {
   "cell_type": "code",
   "execution_count": 185,
   "metadata": {
    "scrolled": false
   },
   "outputs": [
    {
     "name": "stdout",
     "output_type": "stream",
     "text": [
      "Dokładność 21.818181818181817%\n"
     ]
    }
   ],
   "source": [
    "bayes = naive_bayes.MultinomialNB()\n",
    "bayes.fit(train_X_tfidf, train_Y)\n",
    "\n",
    "predictions_bayes = bayes.predict(test_X_tfidf)\n",
    "\n",
    "print('Dokładność', f'{accuracy_score(predictions_bayes, test_Y) * 100}%')"
   ]
  },
  {
   "cell_type": "code",
   "execution_count": 348,
   "metadata": {},
   "outputs": [],
   "source": [
    "from time import time"
   ]
  },
  {
   "cell_type": "code",
   "execution_count": 186,
   "metadata": {},
   "outputs": [
    {
     "name": "stdout",
     "output_type": "stream",
     "text": [
      "Dokładność 61.81818181818181%\n"
     ]
    }
   ],
   "source": [
    "svm_model_after_tunning = svm.SVC(C=16, degree=3, gamma=0.0625, kernel='rbf')\n",
    "svm_model_after_tunning.fit(train_X_tfidf, train_Y)\n",
    "\n",
    "predictions_svm = svm_model_after_tunning.predict(test_X_tfidf)\n",
    "print('Dokładność', f'{accuracy_score(predictions_svm, test_Y) * 100}%')"
   ]
  },
  {
   "cell_type": "code",
   "execution_count": 98,
   "metadata": {},
   "outputs": [],
   "source": [
    "import math"
   ]
  },
  {
   "cell_type": "code",
   "execution_count": 187,
   "metadata": {},
   "outputs": [],
   "source": [
    "C_range = []\n",
    "gamma_range = []\n",
    "for i in range(-10, 4, 1):\n",
    "    C_range.append(math.pow(2, i))\n",
    "    gamma_range.append(math.pow(2, i))\n",
    "    "
   ]
  },
  {
   "cell_type": "code",
   "execution_count": 188,
   "metadata": {},
   "outputs": [],
   "source": [
    "scores = []\n",
    "for C in C_range:\n",
    "    for gamma in gamma_range:\n",
    "        svm_model = svm.SVC(C=C, degree=3, gamma=gamma)\n",
    "        svm_model.fit(train_X_tfidf, train_Y)\n",
    "\n",
    "        predictions_svm = svm_model.predict(test_X_tfidf)\n",
    "        scores.append((C, gamma, accuracy_score(predictions_svm, test_Y)))\n",
    "\n",
    "\n"
   ]
  },
  {
   "cell_type": "code",
   "execution_count": 108,
   "metadata": {
    "collapsed": true
   },
   "outputs": [
    {
     "data": {
      "text/plain": [
       "[(0.00390625, 0.00390625, 0.2),\n",
       " (0.00390625, 0.015625, 0.2),\n",
       " (0.00390625, 0.0625, 0.2),\n",
       " (0.00390625, 0.25, 0.2),\n",
       " (0.00390625, 1.0, 0.2),\n",
       " (0.00390625, 4.0, 0.2),\n",
       " (0.00390625, 16.0, 0.2),\n",
       " (0.015625, 0.00390625, 0.2),\n",
       " (0.015625, 0.015625, 0.2),\n",
       " (0.015625, 0.0625, 0.2),\n",
       " (0.015625, 0.25, 0.2),\n",
       " (0.015625, 1.0, 0.2),\n",
       " (0.015625, 4.0, 0.2),\n",
       " (0.015625, 16.0, 0.2),\n",
       " (0.0625, 0.00390625, 0.2),\n",
       " (0.0625, 0.015625, 0.2),\n",
       " (0.0625, 0.0625, 0.2),\n",
       " (0.0625, 0.25, 0.2),\n",
       " (0.0625, 1.0, 0.2),\n",
       " (0.0625, 4.0, 0.2),\n",
       " (0.0625, 16.0, 0.2),\n",
       " (0.25, 0.00390625, 0.2),\n",
       " (0.25, 0.015625, 0.2),\n",
       " (0.25, 0.0625, 0.2),\n",
       " (0.25, 0.25, 0.2),\n",
       " (0.25, 1.0, 0.2),\n",
       " (0.25, 4.0, 0.2),\n",
       " (0.25, 16.0, 0.2),\n",
       " (1.0, 0.00390625, 0.2),\n",
       " (1.0, 0.015625, 0.2),\n",
       " (1.0, 0.0625, 0.2),\n",
       " (1.0, 0.25, 0.509090909090909),\n",
       " (1.0, 1.0, 0.6181818181818182),\n",
       " (1.0, 4.0, 0.2545454545454545),\n",
       " (1.0, 16.0, 0.21818181818181817),\n",
       " (4.0, 0.00390625, 0.2),\n",
       " (4.0, 0.015625, 0.2),\n",
       " (4.0, 0.0625, 0.6727272727272727),\n",
       " (4.0, 0.25, 0.6909090909090909),\n",
       " (4.0, 1.0, 0.6),\n",
       " (4.0, 4.0, 0.2545454545454545),\n",
       " (4.0, 16.0, 0.21818181818181817),\n",
       " (16.0, 0.00390625, 0.2),\n",
       " (16.0, 0.015625, 0.6545454545454545),\n",
       " (16.0, 0.0625, 0.6909090909090909),\n",
       " (16.0, 0.25, 0.6909090909090909),\n",
       " (16.0, 1.0, 0.6),\n",
       " (16.0, 4.0, 0.2545454545454545),\n",
       " (16.0, 16.0, 0.21818181818181817)]"
      ]
     },
     "execution_count": 108,
     "metadata": {},
     "output_type": "execute_result"
    }
   ],
   "source": [
    "scores"
   ]
  },
  {
   "cell_type": "code",
   "execution_count": 82,
   "metadata": {},
   "outputs": [],
   "source": [
    "from operator import itemgetter\n"
   ]
  },
  {
   "cell_type": "code",
   "execution_count": 189,
   "metadata": {},
   "outputs": [
    {
     "data": {
      "text/plain": [
       "(8.0, 0.125, 0.5818181818181818)"
      ]
     },
     "execution_count": 189,
     "metadata": {},
     "output_type": "execute_result"
    }
   ],
   "source": [
    "max(scores,key=itemgetter(2))"
   ]
  },
  {
   "cell_type": "code",
   "execution_count": null,
   "metadata": {},
   "outputs": [],
   "source": []
  },
  {
   "cell_type": "code",
   "execution_count": 115,
   "metadata": {},
   "outputs": [],
   "source": [
    "def predict(filename, model, processor, stemmer, stop_words):\n",
    "    sample = prepare_row(DATASET_PATH + '/' + filename, processor)\n",
    "    corpus2 = pd.DataFrame([sample])\n",
    "    df_2 = prepare_dataframes(corpus2, stop_words, stemmer)\n",
    "    pd.set_option('display.max_colwidth', -1)  \n",
    "    test_vec = cv.transform(corpus2['text_final'])\n",
    "    train = tfidf.transform(corpus2['text_final'])\n",
    "    return model.predict(train)"
   ]
  },
  {
   "cell_type": "code",
   "execution_count": 166,
   "metadata": {
    "scrolled": true
   },
   "outputs": [
    {
     "name": "stderr",
     "output_type": "stream",
     "text": [
      "DEBUG:root:extract_words invoked\n",
      "DEBUG:root:remove_whitespace invoked\n"
     ]
    }
   ],
   "source": [
    "svm_model_best = svm.SVC(C=16, degree=3, gamma=0.625)\n",
    "svm_model_best.fit(train_X_tfidf, train_Y)\n",
    "\n",
    "result = predict('IPS_5', svm_model_best, processor, stemmer, stop_words)"
   ]
  },
  {
   "cell_type": "code",
   "execution_count": null,
   "metadata": {},
   "outputs": [],
   "source": [
    "tok"
   ]
  },
  {
   "cell_type": "code",
   "execution_count": 454,
   "metadata": {},
   "outputs": [],
   "source": [
    "import pickle"
   ]
  },
  {
   "cell_type": "code",
   "execution_count": 455,
   "metadata": {},
   "outputs": [],
   "source": [
    "pickle.dump(svm_model, open('svm', 'wb'))"
   ]
  },
  {
   "cell_type": "code",
   "execution_count": 66,
   "metadata": {},
   "outputs": [],
   "source": [
    "import numpy as np"
   ]
  },
  {
   "cell_type": "code",
   "execution_count": 64,
   "metadata": {},
   "outputs": [],
   "source": [
    "from collections import defaultdict"
   ]
  },
  {
   "cell_type": "code",
   "execution_count": 85,
   "metadata": {},
   "outputs": [],
   "source": [
    "scores_data_size = []\n",
    "scores_new = defaultdict(list)\n",
    "for i in range(30):\n",
    "    for size in np.arange(0.05, 0.99, 0.01):\n",
    "        train_X_1, test_X_1, train_Y_1, test_Y_1 = model_selection.train_test_split(corpus['text_final'], corpus['title'], test_size=size)\n",
    "        train_X_1 = tfidf.transform(train_X_1)\n",
    "        test_X_1 = tfidf.transform(test_X_1)\n",
    "        train_Y_1 = encoder.fit_transform(train_Y_1)\n",
    "        test_Y_1 = encoder.fit_transform(test_Y_1)\n",
    "        svm_model_size = svm.SVC(C=16, degree=3, gamma=0.0625)\n",
    "        svm_model_size.fit(train_X_1, train_Y_1)\n",
    "        predictions_svm_size = svm_model_size.predict(test_X_1)\n",
    "        scores_new[size].append(accuracy_score(predictions_svm_size, test_Y_1))\n",
    "    "
   ]
  },
  {
   "cell_type": "code",
   "execution_count": 86,
   "metadata": {},
   "outputs": [],
   "source": [
    "average_scores = [(k, sum(v)/len(v)) for k, v in scores_new.items()]"
   ]
  },
  {
   "cell_type": "code",
   "execution_count": 79,
   "metadata": {},
   "outputs": [],
   "source": [
    "X_size = np.array([score[0] for score in average_scores])\n",
    "Y_size = np.array([score[1] for score in average_scores])"
   ]
  },
  {
   "cell_type": "code",
   "execution_count": 681,
   "metadata": {},
   "outputs": [
    {
     "data": {
      "text/plain": [
       "[]"
      ]
     },
     "execution_count": 681,
     "metadata": {},
     "output_type": "execute_result"
    }
   ],
   "source": [
    "scores_data_size"
   ]
  },
  {
   "cell_type": "code",
   "execution_count": 83,
   "metadata": {
    "collapsed": true
   },
   "outputs": [
    {
     "data": {
      "text/plain": [
       "[(0.05, 0.1590909090909091),\n",
       " (0.060000000000000005, 0.21071428571428572),\n",
       " (0.07, 0.2375),\n",
       " (0.08000000000000002, 0.24444444444444438),\n",
       " (0.09000000000000001, 0.1975),\n",
       " (0.1, 0.24318181818181822),\n",
       " (0.11000000000000001, 0.29166666666666663),\n",
       " (0.12000000000000001, 0.3277777777777778),\n",
       " (0.13, 0.4275862068965517),\n",
       " (0.14, 0.34354838709677415),\n",
       " (0.15000000000000002, 0.3484848484848485),\n",
       " (0.16000000000000003, 0.32428571428571423),\n",
       " (0.17000000000000004, 0.5039473684210527),\n",
       " (0.18000000000000005, 0.45375000000000015),\n",
       " (0.19, 0.4511904761904762),\n",
       " (0.2, 0.5488636363636363),\n",
       " (0.21000000000000002, 0.525),\n",
       " (0.22000000000000003, 0.621875),\n",
       " (0.23000000000000004, 0.5323529411764706),\n",
       " (0.24000000000000005, 0.6471698113207548),\n",
       " (0.25000000000000006, 0.4518181818181818),\n",
       " (0.26000000000000006, 0.4464912280701755),\n",
       " (0.27, 0.5974576271186443),\n",
       " (0.28, 0.5645161290322581),\n",
       " (0.29000000000000004, 0.63359375),\n",
       " (0.30000000000000004, 0.6166666666666667),\n",
       " (0.31000000000000005, 0.6323529411764706),\n",
       " (0.32000000000000006, 0.5642857142857142),\n",
       " (0.33, 0.6215277777777779),\n",
       " (0.34, 0.6526666666666665),\n",
       " (0.35000000000000003, 0.6441558441558441),\n",
       " (0.36000000000000004, 0.6183544303797468),\n",
       " (0.37000000000000005, 0.6555555555555554),\n",
       " (0.38000000000000006, 0.6295180722891567),\n",
       " (0.39000000000000007, 0.6273255813953489),\n",
       " (0.4000000000000001, 0.6602272727272729),\n",
       " (0.4100000000000001, 0.6483333333333332),\n",
       " (0.42000000000000004, 0.6516304347826087),\n",
       " (0.43000000000000005, 0.6526595744680851),\n",
       " (0.44000000000000006, 0.6104166666666668),\n",
       " (0.45000000000000007, 0.6570707070707071),\n",
       " (0.4600000000000001, 0.6267326732673266),\n",
       " (0.4700000000000001, 0.6485436893203883),\n",
       " (0.4800000000000001, 0.6366666666666665),\n",
       " (0.49000000000000005, 0.633177570093458),\n",
       " (0.5000000000000001, 0.6409090909090909),\n",
       " (0.5100000000000001, 0.5839285714285715),\n",
       " (0.5200000000000001, 0.6144736842105264),\n",
       " (0.5300000000000001, 0.6357758620689655),\n",
       " (0.5400000000000001, 0.6271186440677965),\n",
       " (0.5500000000000002, 0.6020833333333334),\n",
       " (0.5600000000000002, 0.6308943089430896),\n",
       " (0.5700000000000002, 0.6056),\n",
       " (0.5800000000000002, 0.60748031496063),\n",
       " (0.5900000000000002, 0.5624031007751938),\n",
       " (0.6000000000000002, 0.617175572519084),\n",
       " (0.6100000000000001, 0.6067669172932331),\n",
       " (0.6200000000000001, 0.5698529411764706),\n",
       " (0.6300000000000001, 0.552536231884058),\n",
       " (0.6400000000000001, 0.5835714285714285),\n",
       " (0.6500000000000001, 0.598943661971831),\n",
       " (0.6600000000000001, 0.5767361111111112),\n",
       " (0.6700000000000002, 0.5649659863945579),\n",
       " (0.6800000000000002, 0.48791946308724843),\n",
       " (0.6900000000000002, 0.5264900662251655),\n",
       " (0.7000000000000002, 0.4954248366013071),\n",
       " (0.7100000000000002, 0.47709677419354823),\n",
       " (0.7200000000000002, 0.4550955414012739),\n",
       " (0.7300000000000002, 0.46406249999999993),\n",
       " (0.7400000000000002, 0.5108024691358025),\n",
       " (0.7500000000000002, 0.4701219512195121),\n",
       " (0.7600000000000002, 0.4698795180722891),\n",
       " (0.7700000000000002, 0.36130952380952375),\n",
       " (0.7800000000000001, 0.4035087719298245),\n",
       " (0.7900000000000001, 0.3739884393063584),\n",
       " (0.8000000000000002, 0.35),\n",
       " (0.8100000000000002, 0.32824858757062153),\n",
       " (0.8200000000000002, 0.3069832402234637),\n",
       " (0.8300000000000002, 0.2558011049723756),\n",
       " (0.8400000000000002, 0.2929347826086957),\n",
       " (0.8500000000000002, 0.20188172043010755),\n",
       " (0.8600000000000002, 0.27180851063829786),\n",
       " (0.8700000000000002, 0.22552631578947366),\n",
       " (0.8800000000000002, 0.20807291666666666),\n",
       " (0.8900000000000002, 0.18461538461538463),\n",
       " (0.9000000000000002, 0.1284263959390863),\n",
       " (0.9100000000000003, 0.1228643216080402),\n",
       " (0.9200000000000003, 0.14054726368159204),\n",
       " (0.9300000000000002, 0.08891625615763546),\n",
       " (0.9400000000000002, 0.1129268292682927),\n",
       " (0.9500000000000002, 0.09447115384615386),\n",
       " (0.9600000000000002, 0.09928571428571428),\n",
       " (0.9700000000000002, 0.11603773584905659),\n",
       " (0.9800000000000002, 0.10233644859813082)]"
      ]
     },
     "execution_count": 83,
     "metadata": {},
     "output_type": "execute_result"
    }
   ],
   "source": [
    "average_scores"
   ]
  },
  {
   "cell_type": "code",
   "execution_count": 172,
   "metadata": {},
   "outputs": [
    {
     "data": {
      "text/plain": [
       "(0.28, 0.6704301075268816)"
      ]
     },
     "execution_count": 172,
     "metadata": {},
     "output_type": "execute_result"
    }
   ],
   "source": [
    "max(average_scores, key=itemgetter(1))"
   ]
  },
  {
   "cell_type": "code",
   "execution_count": 93,
   "metadata": {
    "collapsed": true
   },
   "outputs": [
    {
     "data": {
      "image/png": "[encoded data removed]",
      "text/plain": [
       "<Figure size 720x720 with 1 Axes>"
      ]
     },
     "metadata": {
      "needs_background": "light"
     },
     "output_type": "display_data"
    },
    {
     "name": "stderr",
     "output_type": "stream",
     "text": [
      "DEBUG:matplotlib.backends.backend_pdf:Assigning font /b'F1' = '/usr/local/lib/python3.7/site-packages/matplotlib/mpl-data/fonts/ttf/DejaVuSans.ttf'\n",
      "DEBUG:matplotlib.backends.backend_pdf:Embedding font /usr/local/lib/python3.7/site-packages/matplotlib/mpl-data/fonts/ttf/DejaVuSans.ttf.\n",
      "DEBUG:matplotlib.backends.backend_pdf:Writing TrueType font.\n"
     ]
    }
   ],
   "source": [
    "f = plt.figure(figsize=(10, 10))\n",
    "plt.plot(X_size, Y_size)\n",
    "plt.xlabel('Rozmiar zbioru testowego')\n",
    "plt.ylabel('Dokładność modelu')\n",
    "plt.show()\n",
    "f.savefig('test_size.pdf')"
   ]
  },
  {
   "cell_type": "code",
   "execution_count": 227,
   "metadata": {},
   "outputs": [],
   "source": [
    "train_X, test_X, train_Y, test_Y = model_selection.train_test_split(corpus['text_final'], corpus['title'], test_size=0.25)"
   ]
  },
  {
   "cell_type": "code",
   "execution_count": 228,
   "metadata": {},
   "outputs": [],
   "source": [
    "encoder = LabelEncoder()\n",
    "train_Y = encoder.fit_transform(train_Y)\n",
    "test_Y = encoder.fit_transform(test_Y)"
   ]
  },
  {
   "cell_type": "code",
   "execution_count": 229,
   "metadata": {},
   "outputs": [],
   "source": [
    "tfidf = TfidfVectorizer(max_features=5000)\n",
    "tfidf.fit(corpus['text_final'])\n",
    "\n",
    "train_X_tfidf = tfidf.transform(train_X)\n",
    "test_X_tfidf = tfidf.transform(test_X)"
   ]
  },
  {
   "cell_type": "code",
   "execution_count": 230,
   "metadata": {},
   "outputs": [
    {
     "name": "stdout",
     "output_type": "stream",
     "text": [
      "Dokładność 43.63636363636363%\n"
     ]
    }
   ],
   "source": [
    "bayes = naive_bayes.MultinomialNB()\n",
    "bayes.fit(train_X_tfidf, train_Y)\n",
    "\n",
    "predictions_bayes = bayes.predict(test_X_tfidf)\n",
    "\n",
    "print('Dokładność', f'{accuracy_score(predictions_bayes, test_Y) * 100}%')"
   ]
  },
  {
   "cell_type": "code",
   "execution_count": 231,
   "metadata": {},
   "outputs": [
    {
     "name": "stdout",
     "output_type": "stream",
     "text": [
      "Dokładność 16.363636363636363%\n"
     ]
    }
   ],
   "source": [
    "svm_model_after_tunning = svm.SVC(C = 1.0, degree=3, gamma='auto', kernel='rbf')\n",
    "svm_model_after_tunning.fit(train_X_tfidf, train_Y)\n",
    "\n",
    "predictions_svm = svm_model_after_tunning.predict(test_X_tfidf)\n",
    "print('Dokładność', f'{accuracy_score(predictions_svm, test_Y) * 100}%')"
   ]
  },
  {
   "cell_type": "code",
   "execution_count": null,
   "metadata": {},
   "outputs": [],
   "source": []
  },
  {
   "cell_type": "code",
   "execution_count": 167,
   "metadata": {},
   "outputs": [],
   "source": [
    "import seaborn as sns\n",
    "import matplotlib.pylab as plt"
   ]
  },
  {
   "cell_type": "code",
   "execution_count": 565,
   "metadata": {},
   "outputs": [],
   "source": [
    "from mpl_toolkits.mplot3d import Axes3D\n"
   ]
  },
  {
   "cell_type": "code",
   "execution_count": 218,
   "metadata": {},
   "outputs": [],
   "source": []
  },
  {
   "cell_type": "code",
   "execution_count": 232,
   "metadata": {},
   "outputs": [],
   "source": [
    "C_range = []\n",
    "gamma_range = []\n",
    "for i in range(-10, 4, 1):\n",
    "    C_range.append(math.pow(2, i))\n",
    "    gamma_range.append(math.pow(2, i))\n",
    "    "
   ]
  },
  {
   "cell_type": "code",
   "execution_count": null,
   "metadata": {},
   "outputs": [],
   "source": [
    "scores = []\n",
    "for C in C_range:\n",
    "    for gamma in gamma_range:\n",
    "        svm_model = svm.SVC(C=C, degree=3, gamma=gamma)\n",
    "        svm_model.fit(train_X_tfidf, train_Y)\n",
    "\n",
    "        predictions_svm = svm_model.predict(test_X_tfidf)\n",
    "        scores.append((C, gamma, accuracy_score(predictions_svm, test_Y)))"
   ]
  },
  {
   "cell_type": "code",
   "execution_count": 212,
   "metadata": {},
   "outputs": [
    {
     "data": {
      "text/plain": [
       "(2.0, 0.25, 0.6181818181818182)"
      ]
     },
     "execution_count": 212,
     "metadata": {},
     "output_type": "execute_result"
    }
   ],
   "source": [
    "max(scores, key=itemgetter(2))"
   ]
  },
  {
   "cell_type": "code",
   "execution_count": 201,
   "metadata": {},
   "outputs": [
    {
     "name": "stderr",
     "output_type": "stream",
     "text": [
      "DEBUG:matplotlib.colorbar:locator: <matplotlib.colorbar._ColorbarAutoLocator object at 0x143aa8210>\n",
      "DEBUG:matplotlib.colorbar:Using auto colorbar locator on colorbar\n",
      "DEBUG:matplotlib.colorbar:locator: <matplotlib.colorbar._ColorbarAutoLocator object at 0x143aa8210>\n",
      "DEBUG:matplotlib.colorbar:Setting pcolormesh\n"
     ]
    },
    {
     "data": {
      "image/png": "[encoded data removed]",
      "text/plain": [
       "<Figure size 720x720 with 2 Axes>"
      ]
     },
     "metadata": {
      "needs_background": "light"
     },
     "output_type": "display_data"
    },
    {
     "name": "stderr",
     "output_type": "stream",
     "text": [
      "DEBUG:matplotlib.backends.backend_pdf:Assigning font /b'F1' = '/usr/local/lib/python3.7/site-packages/matplotlib/mpl-data/fonts/ttf/DejaVuSans.ttf'\n",
      "DEBUG:matplotlib.backends.backend_pdf:Embedding font /usr/local/lib/python3.7/site-packages/matplotlib/mpl-data/fonts/ttf/DejaVuSans.ttf.\n",
      "DEBUG:matplotlib.backends.backend_pdf:Writing TrueType font.\n"
     ]
    }
   ],
   "source": [
    "f = plt.figure(figsize=(10,10))\n",
    "plt.pcolormesh(X_plot,Y_plot,Z_plot, cmap='Reds')\n",
    "plt.xlabel('parametr C')\n",
    "plt.ylabel('parametr gamma')\n",
    "plt.colorbar()\n",
    "plt.show()\n",
    "f.savefig(\"heatmap.pdf\")"
   ]
  }
 ],
 "metadata": {
  "kernelspec": {
   "display_name": "Python 3",
   "language": "python",
   "name": "python3"
  },
  "language_info": {
   "codemirror_mode": {
    "name": "ipython",
    "version": 3
   },
   "file_extension": ".py",
   "mimetype": "text/x-python",
   "name": "python",
   "nbconvert_exporter": "python",
   "pygments_lexer": "ipython3",
   "version": "3.7.6"
  }
 },
 "nbformat": 4,
 "nbformat_minor": 2
}
